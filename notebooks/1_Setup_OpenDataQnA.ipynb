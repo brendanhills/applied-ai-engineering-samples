{
  "cells": [
    {
      "cell_type": "markdown",
      "metadata": {},
      "source": [
        "<div style=\"display: flex; align-items: left;\">\n",
        "    <a href=\"https://sites.google.com/corp/google.com/genai-solutions/home?authuser=0\">\n",
        "        <img src=\"https://storage.googleapis.com/miscfilespublic/Linkedin%20Banner%20%E2%80%93%202.png\" style=\"margin-right\">\n",
        "    </a>\n",
        "</div>"
      ]
    },
    {
      "cell_type": "markdown",
      "metadata": {
        "id": "DRyGcAepAPJ5"
      },
      "source": [
        "\n",
        "<h1 align=\"center\">Open Data QnA - Chat with your SQL Database</h1> \n",
        "\n",
        "---\n",
        "\n",
        "This notebook first walks through the Vector Store Setup needed for running the Open Data QnA application. \n",
        "\n",
        "Currently supported Source DBs are: \n",
        "- PostgreSQL on Google Cloud SQL \n",
        "- BigQuery\n",
        "\n",
        "Furthermore, the following vector stores are supported \n",
        "- pgvector on PostgreSQL \n",
        "- BigQuery vector\n",
        "\n",
        "\n",
        "The setup part covers the following steps: \n",
        "> 1. Configuration: Intial GCP project, IAM permissions, Environment  and Databases setup including logging on Bigquery for analytics\n",
        "\n",
        "> 2. Creation of Table, Column and Known Good Query Embeddings in the Vector Store  for Retreival Augmented Generation(RAG)\n",
        "\n",
        "\n",
        "Afterwards, you will be able to run the Open Data QnA Pipeline to generate SQL queries and answer questions over your data source. \n",
        "\n",
        "The pipeline run covers the following steps: \n",
        "\n",
        "> 1. Take user question and generate sql in the dialect corresponding to data source\n",
        "\n",
        "> 2. Execute the sql query and retreive the data\n",
        "\n",
        "> 3. Generate natural language respose and charts to display\n",
        "\n",
        "> 4. Clean Up resources\n",
        "\n"
      ]
    },
    {
      "cell_type": "markdown",
      "metadata": {
        "id": "jsWGZW_fUJjN"
      },
      "source": [
        "### 📒 Using this interactive notebook\n",
        "\n",
        "If you have not used this IDE with jupyter notebooks it will ask for installing Python + Jupyter extensions. Please go ahead install them\n",
        "\n",
        "Click the **run** icons ▶️  of each cell within this notebook.\n",
        "\n",
        "> 💡 Alternatively, you can run the currently selected cell with `Ctrl + Enter` (or `⌘ + Enter` on a Mac).\n",
        "\n",
        "> ⚠️ **To avoid any errors**, wait for each section to finish in their order before clicking the next “run” icon.\n",
        "\n",
        "This sample must be connected to a **Google Cloud project**, but nothing else is needed other than your Google Cloud project.\n",
        "\n",
        "You can use an existing project. Alternatively, you can create a new Cloud project [with cloud credits for free.](https://cloud.google.com/free/docs/gcp-free-tier)"
      ]
    },
    {
      "cell_type": "markdown",
      "metadata": {
        "id": "RicDCkdI-hmp"
      },
      "source": [
        "# 🚧 **0. Prerequisites**\n",
        "\n",
        "Make sure that Google Cloud CLI is installed before moving to the next cell! You can refer to the link below for guidance\n",
        "\n",
        "Installation Guide: https://cloud.google.com/sdk/docs/install"
      ]
    },
    {
      "cell_type": "markdown",
      "metadata": {},
      "source": [
        "### Set Python Module Path to Root"
      ]
    },
    {
      "cell_type": "code",
      "execution_count": 2,
      "metadata": {},
      "outputs": [
        {
          "name": "stdout",
          "output_type": "stream",
          "text": [
            "Modules to reload:\n",
            "all-except-skipped\n",
            "\n",
            "Modules to skip:\n",
            "\n"
          ]
        }
      ],
      "source": [
        "import os\n",
        "import sys\n",
        "\n",
        "module_path = os.path.abspath(os.path.join('..'))\n",
        "sys.path.append(module_path)\n",
        "\n",
        "%load_ext autoreload\n",
        "%autoreload 2\n",
        "%aimport"
      ]
    },
    {
      "cell_type": "markdown",
      "metadata": {},
      "source": []
    },
    {
      "cell_type": "code",
      "execution_count": 3,
      "metadata": {},
      "outputs": [],
      "source": [
        "import logging\n",
        "format_string = '%(asctime)s - %(name)s - %(levelname)s - %(message)s'\n",
        "logger = logging.getLogger()\n",
        "fhandler = logging.FileHandler(filename='mylog.log', mode='a')\n",
        "formatter = logging.Formatter(format_string)\n",
        "fhandler.setFormatter(formatter)\n",
        "#logger.addHandler(fhandler)\n",
        "logging.basicConfig(format=format_string,\n",
        "                     level=logging.INFO, stream=sys.stdout)\n",
        "logger.setLevel(logging.INFO)"
      ]
    },
    {
      "cell_type": "markdown",
      "metadata": {
        "id": "p4W6FPnrYEE8"
      },
      "source": [
        "### 🔗 **Connect Your Google Cloud Project**\n",
        "Time to connect your Google Cloud Project to this notebook. "
      ]
    },
    {
      "cell_type": "code",
      "execution_count": 4,
      "metadata": {},
      "outputs": [
        {
          "name": "stdout",
          "output_type": "stream",
          "text": [
            "Updated property [core/project].\n",
            "Project has been set to uk-bh-experiments-argolis\n"
          ]
        }
      ],
      "source": [
        "#@markdown Please fill in the value below with your GCP project ID and then run the cell.\n",
        "PROJECT_ID = \"uk-bh-experiments-argolis\"\n",
        "\n",
        "# Quick input validations.\n",
        "assert PROJECT_ID, \"⚠️ Please provide your Google Cloud Project ID\"\n",
        "\n",
        "# Configure gcloud.\n",
        "!gcloud config set project {PROJECT_ID}\n",
        "print(f'Project has been set to {PROJECT_ID}')\n",
        "\n",
        "os.environ['GOOGLE_CLOUD_QUOTA_PROJECT']=PROJECT_ID\n",
        "os.environ['GOOGLE_CLOUD_PROJECT']=PROJECT_ID"
      ]
    },
    {
      "cell_type": "markdown",
      "metadata": {},
      "source": [
        "### 🤔 **Choose Data Source and Vector Store**"
      ]
    },
    {
      "cell_type": "markdown",
      "metadata": {},
      "source": [
        "Fill out the parameters and configuration settings below. \n",
        "These are the parameters for connecting to the source databases and setting configurations for the vector store tables to be created. \n",
        "Additionally, you can specify whether you have and want to use known-good-queries for the pipeline run and whether you want to enable logging.\n",
        "\n",
        "**Known good queries:** if you have known working user question <-> SQL query pairs, you can put them into the file `scripts/known_good_sql.csv`. This will be used as a caching layer and for in-context learning: If an exact match of the user question is found in the vector store, the pipeline will skip SQL Generation and output the cached SQL query. If the similarity score is between 90-100%, the known good queries will be used as few-shot examples by the SQL Generator Agent. \n",
        "\n",
        "**Logging:** you can enable logging. If enabled, a dataset is created in Big Query in your project, which will store the logging table and save information from the pipeline run in the logging table. This is especially helpful for debugging."
      ]
    },
    {
      "cell_type": "code",
      "execution_count": 5,
      "metadata": {},
      "outputs": [],
      "source": [
        "#[CONFIG]\n",
        "embedding_model = 'vertex' # Options: 'vertex' or 'vertex-lang'\n",
        "vector_embedding_model = \"text-embedding-004\"\n",
        "description_model = 'gemini-1.0-pro' # 'gemini-1.0-pro', 'gemini-1.5-pro', 'text-bison-32k'\n",
        "data_source = 'bigquery' #  Options: 'bigquery' and 'cloudsql-pg' \n",
        "vector_store = 'bigquery-vector' # Options: 'bigquery-vector', 'cloudsql-pgvector'\n",
        "logging = True # True or False \n",
        "kgq_examples = True # True or False \n",
        "\n",
        "#[GCP]\n",
        "project_id = PROJECT_ID\n",
        "\n",
        "#[PGCLOUDSQL]\n",
        "# If you want to use PG as source, fill out the values below\n",
        "pg_region = ''\n",
        "pg_instance = ''\n",
        "pg_database = ''\n",
        "pg_user = ''\n",
        "pg_password = ''\n",
        "pg_schema = ''\n",
        "\n",
        "#[BIGQUERY]\n",
        "# If you want to use BQ as source, fill out the values below\n",
        "bq_dataset_region = 'us-east11'\n",
        "bq_dataset_name = 'breedr'\n",
        "\n",
        "# Name for the BQ dataset created for bigquery-vector and/or logging\n",
        "bq_opendataqna_dataset_name = 'opendataqna'\n",
        "bq_log_table_name = 'audit_log_table' \n",
        "bq_table_list = [\"animal_breeds\", \"activity_types\", \"alert_type\", \"activity_types\"] #None # either None or a list of table names in format ['reviews', 'ratings']\n",
        "\n",
        "#Decode Region and Userdatabase based on source\n",
        "if data_source == 'bigquery': dataset_region = bq_dataset_region; user_database=bq_dataset_name \n",
        "elif data_source == 'cloudsql-pg': dataset_region = pg_region; user_database=pg_schema"
      ]
    },
    {
      "cell_type": "markdown",
      "metadata": {},
      "source": [
        "Quick input verifications below:"
      ]
    },
    {
      "cell_type": "code",
      "execution_count": 6,
      "metadata": {},
      "outputs": [],
      "source": [
        "\n",
        "# Input verification - Source\n",
        "assert data_source in {'bigquery', 'cloudsql-pg'}, \"⚠️ Invalid DATA_SOURCE. Must be 'bigquery' or 'cloudsql-pg'\"\n",
        "\n",
        "# Input verification - Vector Store\n",
        "assert vector_store in {'bigquery-vector', 'cloudsql-pgvector'}, \"⚠️ Invalid VECTOR_STORE. Must be 'bigquery-vector' or 'cloudsql-pgvector'\"\n",
        "\n",
        "if logging: \n",
        "    assert bq_log_table_name, \"⚠️ Please provide a name for your log table if you want to use logging\"\n",
        "\n",
        "if data_source == 'bigquery':\n",
        "    assert bq_dataset_region, \"⚠️ Please provide the Data Set Region\"\n",
        "    assert bq_dataset_name, \"⚠️ Please provide the name of the dataset on Bigquery\"\n",
        "\n",
        "elif data_source == 'cloudsql-pg':\n",
        "    assert pg_region, \"⚠️ Please provide Region of the Cloud SQL Instance\"\n",
        "    assert pg_instance, \"⚠️ Please provide the name of the Cloud SQL Instance\"\n",
        "    assert pg_database, \"⚠️ Please provide the name of the PostgreSQL Database on the Cloud SQL Instance\"\n",
        "    assert pg_user, \"⚠️ Please provide a username for the Cloud SQL Instance\"\n",
        "    assert pg_password, \"⚠️ Please provide the Password for the PG_USER\"\n"
      ]
    },
    {
      "cell_type": "markdown",
      "metadata": {},
      "source": [
        "### 💾 **Save Configuration to File** \n",
        "Save the configurations set in this notebook to  `config.ini`. The parameters from this file are used in notebooks and in various modeules in the repo"
      ]
    },
    {
      "cell_type": "code",
      "execution_count": 7,
      "metadata": {},
      "outputs": [
        {
          "name": "stdout",
          "output_type": "stream",
          "text": [
            "current dir:  /home/brendanhills/dev/uk-bh-experiments/bhfork-opendataqna/applied-ai-engineering-samples/notebooks\n",
            "All configuration paramaters saved to file!\n"
          ]
        }
      ],
      "source": [
        "from scripts import save_config\n",
        "\n",
        "save_config(embedding_model, vector_embedding_model, description_model, data_source, vector_store, logging, kgq_examples, PROJECT_ID,\n",
        "            pg_region, pg_instance, pg_database, pg_user, pg_password, pg_schema, \n",
        "            bq_dataset_region, bq_dataset_name, \n",
        "            bq_opendataqna_dataset_name, bq_log_table_name, bq_table_list)"
      ]
    },
    {
      "cell_type": "markdown",
      "metadata": {},
      "source": [
        "##  **1.2. Create Embeddings in Vector Store for RAG** "
      ]
    },
    {
      "cell_type": "markdown",
      "metadata": {},
      "source": [
        "### 🖋️ **Create Table and Column Embeddings**\n",
        "\n",
        "In this step, table and column metadata is retreived from the data source and embeddings are generated for both"
      ]
    },
    {
      "cell_type": "code",
      "execution_count": 8,
      "metadata": {},
      "outputs": [
        {
          "name": "stdout",
          "output_type": "stream",
          "text": [
            "current dir:  /home/brendanhills/dev/uk-bh-experiments/bhfork-opendataqna/applied-ai-engineering-samples/notebooks\n",
            "root_dir set to: /home/brendanhills/dev/uk-bh-experiments/bhfork-opendataqna/applied-ai-engineering-samples\n",
            "Generating embeddings from source db schemas\n",
            "2024-06-26 08:17:27,909 - agents.DescriptionAgent - INFO - Generate description for table uk-bh-experiments-argolis.breedr.activity_types\n",
            "2024-06-26 08:17:30,008 - agents.DescriptionAgent - INFO - Generate description for table uk-bh-experiments-argolis.breedr.animal_breeds\n",
            "2024-06-26 08:17:31,900 - agents.DescriptionAgent - INFO - Generate description for table uk-bh-experiments-argolis.breedr.alert_type\n",
            "\n",
            "LLM generated 3 Table Descriptions\n",
            "2024-06-26 08:17:32,770 - agents.DescriptionAgent - INFO - Generate description for column  uk-bh-experiments-argolis.breedr.activity_types.id \n",
            "2024-06-26 08:17:33,435 - agents.DescriptionAgent - INFO - Generate description for column  uk-bh-experiments-argolis.breedr.activity_types.image \n",
            "2024-06-26 08:17:34,054 - agents.DescriptionAgent - INFO - Generate description for column  uk-bh-experiments-argolis.breedr.activity_types.image_svg \n",
            "2024-06-26 08:17:34,642 - agents.DescriptionAgent - INFO - Generate description for column  uk-bh-experiments-argolis.breedr.activity_types.is_copyable \n",
            "2024-06-26 08:17:35,169 - agents.DescriptionAgent - INFO - Generate description for column  uk-bh-experiments-argolis.breedr.activity_types.is_extendable \n",
            "2024-06-26 08:17:35,686 - agents.DescriptionAgent - INFO - Generate description for column  uk-bh-experiments-argolis.breedr.activity_types.is_public \n",
            "2024-06-26 08:17:36,200 - agents.DescriptionAgent - INFO - Generate description for column  uk-bh-experiments-argolis.breedr.activity_types.is_system \n",
            "2024-06-26 08:17:36,620 - agents.DescriptionAgent - INFO - Generate description for column  uk-bh-experiments-argolis.breedr.activity_types.name \n",
            "2024-06-26 08:17:37,243 - agents.DescriptionAgent - INFO - Generate description for column  uk-bh-experiments-argolis.breedr.activity_types.position \n",
            "2024-06-26 08:17:37,788 - agents.DescriptionAgent - INFO - Generate description for column  uk-bh-experiments-argolis.breedr.activity_types.slug \n",
            "2024-06-26 08:17:38,453 - agents.DescriptionAgent - INFO - Generate description for column  uk-bh-experiments-argolis.breedr.alert_type.code \n",
            "2024-06-26 08:17:38,848 - agents.DescriptionAgent - INFO - Generate description for column  uk-bh-experiments-argolis.breedr.alert_type.disabled \n",
            "2024-06-26 08:17:39,276 - agents.DescriptionAgent - INFO - Generate description for column  uk-bh-experiments-argolis.breedr.alert_type.name \n",
            "2024-06-26 08:17:39,659 - agents.DescriptionAgent - INFO - Generate description for column  uk-bh-experiments-argolis.breedr.alert_type.object_type \n",
            "2024-06-26 08:17:40,182 - agents.DescriptionAgent - INFO - Generate description for column  uk-bh-experiments-argolis.breedr.animal_breeds.animal_type_id \n",
            "2024-06-26 08:17:40,905 - agents.DescriptionAgent - INFO - Generate description for column  uk-bh-experiments-argolis.breedr.animal_breeds.birth_weight \n",
            "2024-06-26 08:17:41,627 - agents.DescriptionAgent - INFO - Generate description for column  uk-bh-experiments-argolis.breedr.animal_breeds.breedr_code \n",
            "2024-06-26 08:17:42,186 - agents.DescriptionAgent - INFO - Generate description for column  uk-bh-experiments-argolis.breedr.animal_breeds.classification \n",
            "2024-06-26 08:17:42,708 - agents.DescriptionAgent - INFO - Generate description for column  uk-bh-experiments-argolis.breedr.animal_breeds.id \n",
            "2024-06-26 08:17:43,296 - agents.DescriptionAgent - INFO - Generate description for column  uk-bh-experiments-argolis.breedr.animal_breeds.is_obsolete \n",
            "2024-06-26 08:17:43,794 - agents.DescriptionAgent - INFO - Generate description for column  uk-bh-experiments-argolis.breedr.animal_breeds.name \n",
            "2024-06-26 08:17:44,240 - agents.DescriptionAgent - INFO - Generate description for column  uk-bh-experiments-argolis.breedr.animal_breeds.new_classification \n",
            "2024-06-26 08:17:44,865 - agents.DescriptionAgent - INFO - Generate description for column  uk-bh-experiments-argolis.breedr.animal_breeds.reg_breed_code \n",
            "2024-06-26 08:17:45,519 - agents.DescriptionAgent - INFO - Generate description for column  uk-bh-experiments-argolis.breedr.animal_breeds.reg_name \n",
            "2024-06-26 08:17:46,109 - agents.DescriptionAgent - INFO - Generate description for column  uk-bh-experiments-argolis.breedr.animal_breeds.region_id \n",
            "2024-06-26 08:17:46,749 - agents.DescriptionAgent - INFO - Generate description for column  uk-bh-experiments-argolis.breedr.animal_breeds.version \n",
            "\n",
            "LLM generated 26 Column Descriptions\n",
            "Table and Column embeddings are created\n"
          ]
        }
      ],
      "source": [
        "from env_setup import get_embeddings\n",
        "\n",
        "# Generate embeddings for tables and columns\n",
        "table_schema_embeddings, col_schema_embeddings = get_embeddings()  \n",
        "\n"
      ]
    },
    {
      "cell_type": "code",
      "execution_count": 9,
      "metadata": {},
      "outputs": [
        {
          "data": {
            "text/html": [
              "<div>\n",
              "<style scoped>\n",
              "    .dataframe tbody tr th:only-of-type {\n",
              "        vertical-align: middle;\n",
              "    }\n",
              "\n",
              "    .dataframe tbody tr th {\n",
              "        vertical-align: top;\n",
              "    }\n",
              "\n",
              "    .dataframe thead th {\n",
              "        text-align: right;\n",
              "    }\n",
              "</style>\n",
              "<table border=\"1\" class=\"dataframe\">\n",
              "  <thead>\n",
              "    <tr style=\"text-align: right;\">\n",
              "      <th></th>\n",
              "      <th>table_schema</th>\n",
              "      <th>table_name</th>\n",
              "      <th>column_name</th>\n",
              "      <th>content</th>\n",
              "      <th>embedding</th>\n",
              "    </tr>\n",
              "  </thead>\n",
              "  <tbody>\n",
              "    <tr>\n",
              "      <th>count</th>\n",
              "      <td>26</td>\n",
              "      <td>26</td>\n",
              "      <td>26</td>\n",
              "      <td>26</td>\n",
              "      <td>26</td>\n",
              "    </tr>\n",
              "    <tr>\n",
              "      <th>unique</th>\n",
              "      <td>1</td>\n",
              "      <td>3</td>\n",
              "      <td>23</td>\n",
              "      <td>26</td>\n",
              "      <td>26</td>\n",
              "    </tr>\n",
              "    <tr>\n",
              "      <th>top</th>\n",
              "      <td>breedr</td>\n",
              "      <td>animal_breeds</td>\n",
              "      <td>name</td>\n",
              "      <td>\\n            Column Name: breedr.activity_typ...</td>\n",
              "      <td>[0.015382354147732258, 0.04736259952187538, -0...</td>\n",
              "    </tr>\n",
              "    <tr>\n",
              "      <th>freq</th>\n",
              "      <td>26</td>\n",
              "      <td>12</td>\n",
              "      <td>3</td>\n",
              "      <td>1</td>\n",
              "      <td>1</td>\n",
              "    </tr>\n",
              "  </tbody>\n",
              "</table>\n",
              "</div>"
            ],
            "text/plain": [
              "       table_schema     table_name column_name  \\\n",
              "count            26             26          26   \n",
              "unique            1              3          23   \n",
              "top          breedr  animal_breeds        name   \n",
              "freq             26             12           3   \n",
              "\n",
              "                                                  content  \\\n",
              "count                                                  26   \n",
              "unique                                                 26   \n",
              "top     \\n            Column Name: breedr.activity_typ...   \n",
              "freq                                                    1   \n",
              "\n",
              "                                                embedding  \n",
              "count                                                  26  \n",
              "unique                                                 26  \n",
              "top     [0.015382354147732258, 0.04736259952187538, -0...  \n",
              "freq                                                    1  "
            ]
          },
          "execution_count": 9,
          "metadata": {},
          "output_type": "execute_result"
        }
      ],
      "source": [
        "table_schema_embeddings.describe()\n",
        "col_schema_embeddings.describe()"
      ]
    },
    {
      "cell_type": "markdown",
      "metadata": {},
      "source": [
        "### 💾 **Save the Table and Column Embeddings in the Vector Store**\n",
        "The table and column embeddings created in the above step are save to the Vector Store chosen"
      ]
    },
    {
      "cell_type": "code",
      "execution_count": 12,
      "metadata": {},
      "outputs": [
        {
          "name": "stdout",
          "output_type": "stream",
          "text": [
            "Storing embeddings back to the vector store.\n",
            "2024-06-26 08:22:23,751 - embeddings.store_embeddings - INFO - Clean up table_details_embeddings: query_string=\" DELETE FROM `uk-bh-experiments-argolis.opendataqna.table_details_embeddings` WHERE table_schema = 'breedr' AND table_name IN( 'activity_types','animal_breeds','alert_type' )\"\n",
            "2024-06-26 08:22:26,021 - embeddings.store_embeddings - INFO - Storing table embeddings to BQ uk-bh-experiments-argolis.opendataqna.table_details_embeddings'\n",
            "2024-06-26 08:22:28,554 - embeddings.store_embeddings - INFO - Clean up tablecolumn_details_embeddings: column_query_string=\"DELETE FROM `uk-bh-experiments-argolis.opendataqna.tablecolumn_details_embeddings` WHERE table_schema = 'breedr' AND table_name IN( 'activity_types','animal_breeds','alert_type') \"\n",
            "2024-06-26 08:22:30,596 - embeddings.store_embeddings - INFO - Storing column embeddings to BQ uk-bh-experiments-argolis.opendataqna.tablecolumn_details_embeddings\n",
            "Table and Column embeddings are saved to vector store\n"
          ]
        }
      ],
      "source": [
        "from env_setup import store_embeddings\n",
        "\n",
        "\n",
        "# Store table/column embeddings (asynchronous)\n",
        "await(store_embeddings(table_schema_embeddings, col_schema_embeddings)) \n"
      ]
    },
    {
      "cell_type": "markdown",
      "metadata": {},
      "source": [
        "### 🗄️ **Load Known Good SQL into Vector Store**\n",
        "Known Good Queries are used to create query cache for Few shot examples. Creating a query cache is highly recommended for best outcomes! \n",
        "\n",
        "The following cell will load the Natural Language Question and Known Good SQL pairs into our Vector Store. There pairs are loaded from `known_good_sql.csv` file inside scripts folder. If you have your own Question-SQL examples, curate them in .csv file before running the cell below. \n",
        "\n",
        "If no Known Good Queries are available at this time to create query cache, you can use [3_LoadKnownGoodSQL.ipynb](3_LoadKnownGoodSQL.ipynb) to load them later. \n",
        "\n"
      ]
    },
    {
      "cell_type": "markdown",
      "metadata": {},
      "source": [
        "#### Format of the Known Good SQL File (known_good_sql.csv)\n",
        "\n",
        "prompt | sql | database_name [3 columns]\n",
        "\n",
        "prompt ==> User Question \n",
        "\n",
        "sql ==> SQL for the user question (Note that the sql should enclosed in quotes and only in single line. Please remove the line  break)\n",
        "\n",
        "database_name ==>This name should exactly  match the SCHEMA   NAME for Postgres Source or BQ_DATASET_NAME"
      ]
    },
    {
      "cell_type": "code",
      "execution_count": 13,
      "metadata": {},
      "outputs": [
        {
          "name": "stdout",
          "output_type": "stream",
          "text": [
            "Creating kgq table in vector store.\n",
            "Reading contents of known_good_sql.csv\n",
            "Known Good SQL Found at Path :: /home/brendanhills/dev/uk-bh-experiments/bhfork-opendataqna/applied-ai-engineering-samples/scripts/known_good_sql.csv\n",
            "Storing kgq embeddings in vector store table.\n",
            "kgq embeddings stored.\n"
          ]
        }
      ],
      "source": [
        "from env_setup import create_kgq_sql_table, store_kgq_sql_embeddings\n",
        "\n",
        "# Create table for known good queries (if enabled)\n",
        "await(create_kgq_sql_table()) \n",
        "\n",
        "# Store known good query embeddings (if enabled)\n",
        "await(store_kgq_sql_embeddings())  \n"
      ]
    },
    {
      "cell_type": "markdown",
      "metadata": {},
      "source": [
        "### 🥁 If all the above steps are executed successfully, the following should be set up:\n",
        "\n",
        "* GCP project and all the required IAM permissions\n",
        "\n",
        "* Environment to run the solution\n",
        "\n",
        "* Data source and Vector store for the solution"
      ]
    },
    {
      "cell_type": "markdown",
      "metadata": {},
      "source": [
        "__________________________________________________________________________________________________________________"
      ]
    }
  ],
  "metadata": {
    "colab": {
      "provenance": []
    },
    "kernelspec": {
      "display_name": "talktodata-8CniJjrG-py3.11",
      "language": "python",
      "name": "python3"
    },
    "language_info": {
      "codemirror_mode": {
        "name": "ipython",
        "version": 3
      },
      "file_extension": ".py",
      "mimetype": "text/x-python",
      "name": "python",
      "nbconvert_exporter": "python",
      "pygments_lexer": "ipython3",
      "version": "3.11.2"
    }
  },
  "nbformat": 4,
  "nbformat_minor": 0
}
