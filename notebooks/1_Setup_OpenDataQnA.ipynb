{
  "cells": [
    {
      "cell_type": "markdown",
      "metadata": {},
      "source": [
        "<div style=\"display: flex; align-items: left;\">\n",
        "    <a href=\"https://sites.google.com/corp/google.com/genai-solutions/home?authuser=0\">\n",
        "        <img src=\"https://storage.googleapis.com/miscfilespublic/Linkedin%20Banner%20%E2%80%93%202.png\" style=\"margin-right\">\n",
        "    </a>\n",
        "</div>"
      ]
    },
    {
      "cell_type": "markdown",
      "metadata": {
        "id": "DRyGcAepAPJ5"
      },
      "source": [
        "\n",
        "<h1 align=\"center\">Open Data QnA - Chat with your SQL Database</h1> \n",
        "\n",
        "---\n",
        "\n",
        "This notebook first walks through the Vector Store Setup needed for running the Open Data QnA application. \n",
        "\n",
        "Currently supported Source DBs are: \n",
        "- PostgreSQL on Google Cloud SQL \n",
        "- BigQuery\n",
        "\n",
        "Furthermore, the following vector stores are supported \n",
        "- pgvector on PostgreSQL \n",
        "- BigQuery vector\n",
        "\n",
        "\n",
        "The setup part covers the following steps: \n",
        "> 1. Configuration: Intial GCP project, IAM permissions, Environment  and Databases setup including logging on Bigquery for analytics\n",
        "\n",
        "> 2. Creation of Table, Column and Known Good Query Embeddings in the Vector Store  for Retreival Augmented Generation(RAG)\n",
        "\n",
        "\n",
        "Afterwards, you will be able to run the Open Data QnA Pipeline to generate SQL queries and answer questions over your data source. \n",
        "\n",
        "The pipeline run covers the following steps: \n",
        "\n",
        "> 1. Take user question and generate sql in the dialect corresponding to data source\n",
        "\n",
        "> 2. Execute the sql query and retreive the data\n",
        "\n",
        "> 3. Generate natural language respose and charts to display\n",
        "\n",
        "> 4. Clean Up resources\n",
        "\n"
      ]
    },
    {
      "cell_type": "markdown",
      "metadata": {
        "id": "jsWGZW_fUJjN"
      },
      "source": [
        "### 📒 Using this interactive notebook\n",
        "\n",
        "If you have not used this IDE with jupyter notebooks it will ask for installing Python + Jupyter extensions. Please go ahead install them\n",
        "\n",
        "Click the **run** icons ▶️  of each cell within this notebook.\n",
        "\n",
        "> 💡 Alternatively, you can run the currently selected cell with `Ctrl + Enter` (or `⌘ + Enter` on a Mac).\n",
        "\n",
        "> ⚠️ **To avoid any errors**, wait for each section to finish in their order before clicking the next “run” icon.\n",
        "\n",
        "This sample must be connected to a **Google Cloud project**, but nothing else is needed other than your Google Cloud project.\n",
        "\n",
        "You can use an existing project. Alternatively, you can create a new Cloud project [with cloud credits for free.](https://cloud.google.com/free/docs/gcp-free-tier)"
      ]
    },
    {
      "cell_type": "markdown",
      "metadata": {
        "id": "RicDCkdI-hmp"
      },
      "source": [
        "# 🚧 **0. Prerequisites**\n",
        "\n",
        "Make sure that Google Cloud CLI is installed before moving to the next cell! You can refer to the link below for guidance\n",
        "\n",
        "Installation Guide: https://cloud.google.com/sdk/docs/install"
      ]
    },
    {
      "cell_type": "markdown",
      "metadata": {},
      "source": [
        "### Set Python Module Path to Root"
      ]
    },
    {
      "cell_type": "code",
      "execution_count": 2,
      "metadata": {},
      "outputs": [],
      "source": [
        "import os\n",
        "import sys\n",
        "\n",
        "module_path = os.path.abspath(os.path.join('..'))\n",
        "sys.path.append(module_path)"
      ]
    },
    {
      "cell_type": "code",
      "execution_count": 3,
      "metadata": {},
      "outputs": [],
      "source": [
        "import logging\n",
        "format_string = '%(asctime)s - %(name)s - %(levelname)s - %(message)s'\n",
        "logger = logging.getLogger()\n",
        "fhandler = logging.FileHandler(filename='mylog.log', mode='a')\n",
        "formatter = logging.Formatter(format_string)\n",
        "fhandler.setFormatter(formatter)\n",
        "#logger.addHandler(fhandler)\n",
        "logging.basicConfig(format=format_string,\n",
        "                     level=logging.INFO, stream=sys.stdout)\n",
        "logger.setLevel(logging.INFO)"
      ]
    },
    {
      "cell_type": "markdown",
      "metadata": {
        "id": "p4W6FPnrYEE8"
      },
      "source": [
        "### 🔗 **Connect Your Google Cloud Project**\n",
        "Time to connect your Google Cloud Project to this notebook. "
      ]
    },
    {
      "cell_type": "code",
      "execution_count": 4,
      "metadata": {},
      "outputs": [
        {
          "name": "stdout",
          "output_type": "stream",
          "text": [
            "Updated property [core/project].\n",
            "Project has been set to uk-bh-experiments-argolis\n"
          ]
        }
      ],
      "source": [
        "#@markdown Please fill in the value below with your GCP project ID and then run the cell.\n",
        "PROJECT_ID = \"uk-bh-experiments-argolis\"\n",
        "\n",
        "# Quick input validations.\n",
        "assert PROJECT_ID, \"⚠️ Please provide your Google Cloud Project ID\"\n",
        "\n",
        "# Configure gcloud.\n",
        "!gcloud config set project {PROJECT_ID}\n",
        "print(f'Project has been set to {PROJECT_ID}')\n",
        "\n",
        "os.environ['GOOGLE_CLOUD_QUOTA_PROJECT']=PROJECT_ID\n",
        "os.environ['GOOGLE_CLOUD_PROJECT']=PROJECT_ID"
      ]
    },
    {
      "cell_type": "markdown",
      "metadata": {},
      "source": [
        "### 🤔 **Choose Data Source and Vector Store**"
      ]
    },
    {
      "cell_type": "markdown",
      "metadata": {},
      "source": [
        "Fill out the parameters and configuration settings below. \n",
        "These are the parameters for connecting to the source databases and setting configurations for the vector store tables to be created. \n",
        "Additionally, you can specify whether you have and want to use known-good-queries for the pipeline run and whether you want to enable logging.\n",
        "\n",
        "**Known good queries:** if you have known working user question <-> SQL query pairs, you can put them into the file `scripts/known_good_sql.csv`. This will be used as a caching layer and for in-context learning: If an exact match of the user question is found in the vector store, the pipeline will skip SQL Generation and output the cached SQL query. If the similarity score is between 90-100%, the known good queries will be used as few-shot examples by the SQL Generator Agent. \n",
        "\n",
        "**Logging:** you can enable logging. If enabled, a dataset is created in Big Query in your project, which will store the logging table and save information from the pipeline run in the logging table. This is especially helpful for debugging."
      ]
    },
    {
      "cell_type": "code",
      "execution_count": 5,
      "metadata": {},
      "outputs": [],
      "source": [
        "#[CONFIG]\n",
        "embedding_model = 'vertex' # Options: 'vertex' or 'vertex-lang'\n",
        "vector_embedding_model = \"text-embedding-004\"\n",
        "description_model = 'gemini-1.0-pro' # 'gemini-1.0-pro', 'gemini-1.5-pro', 'text-bison-32k'\n",
        "data_source = 'bigquery' #  Options: 'bigquery' and 'cloudsql-pg' \n",
        "vector_store = 'bigquery-vector' # Options: 'bigquery-vector', 'cloudsql-pgvector'\n",
        "logging = True # True or False \n",
        "kgq_examples = True # True or False \n",
        "\n",
        "#[GCP]\n",
        "project_id = PROJECT_ID\n",
        "\n",
        "#[PGCLOUDSQL]\n",
        "# If you want to use PG as source, fill out the values below\n",
        "pg_region = ''\n",
        "pg_instance = ''\n",
        "pg_database = ''\n",
        "pg_user = ''\n",
        "pg_password = ''\n",
        "pg_schema = ''\n",
        "\n",
        "#[BIGQUERY]\n",
        "# If you want to use BQ as source, fill out the values below\n",
        "bq_dataset_region = 'us-east11'\n",
        "bq_dataset_name = 'breedr'\n",
        "\n",
        "# Name for the BQ dataset created for bigquery-vector and/or logging\n",
        "bq_opendataqna_dataset_name = 'opendataqna'\n",
        "bq_log_table_name = 'audit_log_table' \n",
        "bq_table_list = [\"animal_breeds\", \"kill_information\", \"animals\", \"activity_types\", \"activities\"] #None # either None or a list of table names in format ['reviews', 'ratings']\n",
        "\n",
        "#Decode Region and Userdatabase based on source\n",
        "if data_source == 'bigquery': dataset_region = bq_dataset_region; user_database=bq_dataset_name \n",
        "elif data_source == 'cloudsql-pg': dataset_region = pg_region; user_database=pg_schema"
      ]
    },
    {
      "cell_type": "markdown",
      "metadata": {},
      "source": [
        "Quick input verifications below:"
      ]
    },
    {
      "cell_type": "code",
      "execution_count": 6,
      "metadata": {},
      "outputs": [],
      "source": [
        "\n",
        "# Input verification - Source\n",
        "assert data_source in {'bigquery', 'cloudsql-pg'}, \"⚠️ Invalid DATA_SOURCE. Must be 'bigquery' or 'cloudsql-pg'\"\n",
        "\n",
        "# Input verification - Vector Store\n",
        "assert vector_store in {'bigquery-vector', 'cloudsql-pgvector'}, \"⚠️ Invalid VECTOR_STORE. Must be 'bigquery-vector' or 'cloudsql-pgvector'\"\n",
        "\n",
        "if logging: \n",
        "    assert bq_log_table_name, \"⚠️ Please provide a name for your log table if you want to use logging\"\n",
        "\n",
        "if data_source == 'bigquery':\n",
        "    assert bq_dataset_region, \"⚠️ Please provide the Data Set Region\"\n",
        "    assert bq_dataset_name, \"⚠️ Please provide the name of the dataset on Bigquery\"\n",
        "\n",
        "elif data_source == 'cloudsql-pg':\n",
        "    assert pg_region, \"⚠️ Please provide Region of the Cloud SQL Instance\"\n",
        "    assert pg_instance, \"⚠️ Please provide the name of the Cloud SQL Instance\"\n",
        "    assert pg_database, \"⚠️ Please provide the name of the PostgreSQL Database on the Cloud SQL Instance\"\n",
        "    assert pg_user, \"⚠️ Please provide a username for the Cloud SQL Instance\"\n",
        "    assert pg_password, \"⚠️ Please provide the Password for the PG_USER\"\n"
      ]
    },
    {
      "cell_type": "markdown",
      "metadata": {},
      "source": [
        "### 💾 **Save Configuration to File** \n",
        "Save the configurations set in this notebook to  `config.ini`. The parameters from this file are used in notebooks and in various modeules in the repo"
      ]
    },
    {
      "cell_type": "code",
      "execution_count": 7,
      "metadata": {},
      "outputs": [
        {
          "name": "stdout",
          "output_type": "stream",
          "text": [
            "current dir:  /home/brendanhills/dev/applied-ai-engineering-samples/notebooks\n",
            "All configuration paramaters saved to file!\n"
          ]
        }
      ],
      "source": [
        "from scripts import save_config\n",
        "\n",
        "save_config(embedding_model, vector_embedding_model, description_model, data_source, vector_store, logging, kgq_examples, PROJECT_ID,\n",
        "            pg_region, pg_instance, pg_database, pg_user, pg_password, pg_schema, \n",
        "            bq_dataset_region, bq_dataset_name, \n",
        "            bq_opendataqna_dataset_name, bq_log_table_name, bq_table_list)"
      ]
    },
    {
      "cell_type": "markdown",
      "metadata": {},
      "source": [
        "##  **1.2. Create Embeddings in Vector Store for RAG** "
      ]
    },
    {
      "cell_type": "markdown",
      "metadata": {},
      "source": [
        "### 🖋️ **Create Table and Column Embeddings**\n",
        "\n",
        "In this step, table and column metadata is retreived from the data source and embeddings are generated for both"
      ]
    },
    {
      "cell_type": "code",
      "execution_count": 8,
      "metadata": {},
      "outputs": [
        {
          "name": "stdout",
          "output_type": "stream",
          "text": [
            "current dir:  /home/brendanhills/dev/applied-ai-engineering-samples/notebooks\n",
            "root_dir set to: /home/brendanhills/dev/applied-ai-engineering-samples\n",
            "Generating embeddings from source db schemas\n",
            "2024-06-21 17:15:06,995 - agents.DescriptionAgent - INFO - Generate description for table uk-bh-experiments-argolis.breedr.kill_information\n",
            "2024-06-21 17:15:09,829 - agents.DescriptionAgent - INFO - Generate description for table uk-bh-experiments-argolis.breedr.animals\n",
            "2024-06-21 17:15:11,521 - agents.DescriptionAgent - INFO - Generate description for table uk-bh-experiments-argolis.breedr.activity_types\n",
            "2024-06-21 17:15:13,105 - agents.DescriptionAgent - INFO - Generate description for table uk-bh-experiments-argolis.breedr.activities\n",
            "2024-06-21 17:15:14,865 - agents.DescriptionAgent - INFO - Generate description for table uk-bh-experiments-argolis.breedr.animal_breeds\n",
            "\n",
            "LLM generated 5 Table Descriptions\n"
          ]
        }
      ],
      "source": [
        "from env_setup import get_embeddings\n",
        "\n",
        "# Generate embeddings for tables and columns\n",
        "table_schema_embeddings, col_schema_embeddings = get_embeddings()  \n"
      ]
    },
    {
      "cell_type": "markdown",
      "metadata": {},
      "source": [
        "### 💾 **Save the Table and Column Embeddings in the Vector Store**\n",
        "The table and column embeddings created in the above step are save to the Vector Store chosen"
      ]
    },
    {
      "cell_type": "code",
      "execution_count": 8,
      "metadata": {},
      "outputs": [
        {
          "name": "stdout",
          "output_type": "stream",
          "text": [
            "Storing embeddings back to the vector store.\n",
            "2024-06-21 16:48:59,258 - google.auth._default - DEBUG - Checking None for explicit credentials as part of auth process...\n",
            "2024-06-21 16:48:59,261 - google.auth._default - DEBUG - Checking Cloud SDK credentials as part of auth process...\n",
            "2024-06-21 16:48:59,841 - urllib3.util.retry - DEBUG - Converted retries value: 3 -> Retry(total=3, connect=None, read=None, redirect=None, status=None)\n",
            "2024-06-21 16:48:59,842 - google.auth.transport.requests - DEBUG - Making request: POST https://oauth2.googleapis.com/token\n",
            "2024-06-21 16:48:59,843 - urllib3.connectionpool - DEBUG - Starting new HTTPS connection (1): oauth2.googleapis.com:443\n",
            "2024-06-21 16:48:59,972 - urllib3.connectionpool - DEBUG - https://oauth2.googleapis.com:443 \"POST /token HTTP/11\" 200 None\n",
            "2024-06-21 16:48:59,975 - urllib3.connectionpool - DEBUG - Starting new HTTPS connection (1): bigquery.googleapis.com:443\n",
            "2024-06-21 16:49:00,610 - urllib3.connectionpool - DEBUG - https://bigquery.googleapis.com:443 \"POST /bigquery/v2/projects/uk-bh-experiments-argolis/queries?prettyPrint=false HTTP/11\" 200 None\n",
            "2024-06-21 16:49:00,617 - embeddings.store_embeddings - INFO - Delete table_details_embeddings row: breedr and table_name= kill_information\n",
            "2024-06-21 16:49:02,972 - urllib3.connectionpool - DEBUG - https://bigquery.googleapis.com:443 \"POST /bigquery/v2/projects/uk-bh-experiments-argolis/queries?prettyPrint=false HTTP/11\" 200 None\n",
            "2024-06-21 16:49:02,974 - embeddings.store_embeddings - INFO - Delete table_details_embeddings row: breedr and table_name= animals\n",
            "2024-06-21 16:49:05,177 - urllib3.connectionpool - DEBUG - https://bigquery.googleapis.com:443 \"POST /bigquery/v2/projects/uk-bh-experiments-argolis/queries?prettyPrint=false HTTP/11\" 200 None\n",
            "2024-06-21 16:49:05,180 - embeddings.store_embeddings - INFO - Delete table_details_embeddings row: breedr and table_name= activity_types\n",
            "2024-06-21 16:49:07,327 - urllib3.connectionpool - DEBUG - https://bigquery.googleapis.com:443 \"POST /bigquery/v2/projects/uk-bh-experiments-argolis/queries?prettyPrint=false HTTP/11\" 200 None\n",
            "2024-06-21 16:49:07,331 - embeddings.store_embeddings - INFO - Delete table_details_embeddings row: breedr and table_name= activities\n",
            "2024-06-21 16:49:09,579 - urllib3.connectionpool - DEBUG - https://bigquery.googleapis.com:443 \"POST /bigquery/v2/projects/uk-bh-experiments-argolis/queries?prettyPrint=false HTTP/11\" 200 None\n",
            "2024-06-21 16:49:09,584 - embeddings.store_embeddings - INFO - Delete table_details_embeddings row: breedr and table_name= animal_breeds\n",
            "2024-06-21 16:49:11,832 - urllib3.connectionpool - DEBUG - https://bigquery.googleapis.com:443 \"POST /bigquery/v2/projects/uk-bh-experiments-argolis/queries?prettyPrint=false HTTP/11\" 200 None\n",
            "2024-06-21 16:49:11,836 - embeddings.store_embeddings - INFO - Storing table embeddings to BQ uk-bh-experiments-argolis.opendataqna.table_details_embeddings'\n",
            "2024-06-21 16:49:12,210 - urllib3.connectionpool - DEBUG - https://bigquery.googleapis.com:443 \"GET /bigquery/v2/projects/uk-bh-experiments-argolis/datasets/opendataqna/tables/table_details_embeddings?prettyPrint=false HTTP/11\" 200 None\n",
            "2024-06-21 16:49:13,675 - urllib3.connectionpool - DEBUG - https://bigquery.googleapis.com:443 \"POST /upload/bigquery/v2/projects/uk-bh-experiments-argolis/jobs?uploadType=multipart HTTP/11\" 200 1850\n",
            "2024-06-21 16:49:14,197 - urllib3.connectionpool - DEBUG - https://bigquery.googleapis.com:443 \"POST /bigquery/v2/projects/uk-bh-experiments-argolis/queries?prettyPrint=false HTTP/11\" 200 None\n",
            "2024-06-21 16:49:14,202 - embeddings.store_embeddings - INFO - Delete tablecolumn_details_embeddings row: breedr and table_name= activities and column_name= activity_template_id \n",
            "2024-06-21 16:49:16,337 - urllib3.connectionpool - DEBUG - https://bigquery.googleapis.com:443 \"POST /bigquery/v2/projects/uk-bh-experiments-argolis/queries?prettyPrint=false HTTP/11\" 200 None\n",
            "2024-06-21 16:49:16,339 - embeddings.store_embeddings - INFO - Delete tablecolumn_details_embeddings row: breedr and table_name= activities and column_name= activity_type_id \n",
            "2024-06-21 16:49:18,347 - urllib3.connectionpool - DEBUG - https://bigquery.googleapis.com:443 \"POST /bigquery/v2/projects/uk-bh-experiments-argolis/queries?prettyPrint=false HTTP/11\" 200 None\n",
            "2024-06-21 16:49:18,349 - embeddings.store_embeddings - INFO - Delete tablecolumn_details_embeddings row: breedr and table_name= activities and column_name= animal_id \n",
            "2024-06-21 16:49:20,230 - urllib3.connectionpool - DEBUG - https://bigquery.googleapis.com:443 \"POST /bigquery/v2/projects/uk-bh-experiments-argolis/queries?prettyPrint=false HTTP/11\" 200 None\n",
            "2024-06-21 16:49:20,233 - embeddings.store_embeddings - INFO - Delete tablecolumn_details_embeddings row: breedr and table_name= activities and column_name= batch_id \n",
            "2024-06-21 16:49:22,278 - urllib3.connectionpool - DEBUG - https://bigquery.googleapis.com:443 \"POST /bigquery/v2/projects/uk-bh-experiments-argolis/queries?prettyPrint=false HTTP/11\" 200 None\n",
            "2024-06-21 16:49:22,283 - embeddings.store_embeddings - INFO - Delete tablecolumn_details_embeddings row: breedr and table_name= activities and column_name= business_unit_id \n",
            "2024-06-21 16:49:31,391 - urllib3.connectionpool - DEBUG - https://bigquery.googleapis.com:443 \"POST /bigquery/v2/projects/uk-bh-experiments-argolis/queries?prettyPrint=false HTTP/11\" 200 None\n",
            "2024-06-21 16:49:31,394 - embeddings.store_embeddings - INFO - Delete tablecolumn_details_embeddings row: breedr and table_name= activities and column_name= created_at \n",
            "2024-06-21 16:49:33,367 - urllib3.connectionpool - DEBUG - https://bigquery.googleapis.com:443 \"POST /bigquery/v2/projects/uk-bh-experiments-argolis/queries?prettyPrint=false HTTP/11\" 200 None\n",
            "2024-06-21 16:49:33,370 - embeddings.store_embeddings - INFO - Delete tablecolumn_details_embeddings row: breedr and table_name= activities and column_name= created_by_id \n",
            "2024-06-21 16:49:35,352 - urllib3.connectionpool - DEBUG - https://bigquery.googleapis.com:443 \"POST /bigquery/v2/projects/uk-bh-experiments-argolis/queries?prettyPrint=false HTTP/11\" 200 None\n",
            "2024-06-21 16:49:35,356 - embeddings.store_embeddings - INFO - Delete tablecolumn_details_embeddings row: breedr and table_name= activities and column_name= date \n",
            "2024-06-21 16:49:37,241 - urllib3.connectionpool - DEBUG - https://bigquery.googleapis.com:443 \"POST /bigquery/v2/projects/uk-bh-experiments-argolis/queries?prettyPrint=false HTTP/11\" 200 None\n",
            "2024-06-21 16:49:37,246 - embeddings.store_embeddings - INFO - Delete tablecolumn_details_embeddings row: breedr and table_name= activities and column_name= fields \n",
            "2024-06-21 16:49:39,173 - urllib3.connectionpool - DEBUG - https://bigquery.googleapis.com:443 \"POST /bigquery/v2/projects/uk-bh-experiments-argolis/queries?prettyPrint=false HTTP/11\" 200 None\n",
            "2024-06-21 16:49:39,177 - embeddings.store_embeddings - INFO - Delete tablecolumn_details_embeddings row: breedr and table_name= activities and column_name= groups \n",
            "2024-06-21 16:49:41,221 - urllib3.connectionpool - DEBUG - https://bigquery.googleapis.com:443 \"POST /bigquery/v2/projects/uk-bh-experiments-argolis/queries?prettyPrint=false HTTP/11\" 200 None\n",
            "2024-06-21 16:49:41,222 - embeddings.store_embeddings - INFO - Delete tablecolumn_details_embeddings row: breedr and table_name= activities and column_name= id \n",
            "2024-06-21 16:49:43,270 - urllib3.connectionpool - DEBUG - https://bigquery.googleapis.com:443 \"POST /bigquery/v2/projects/uk-bh-experiments-argolis/queries?prettyPrint=false HTTP/11\" 200 None\n",
            "2024-06-21 16:49:43,273 - embeddings.store_embeddings - INFO - Delete tablecolumn_details_embeddings row: breedr and table_name= activities and column_name= is_copied \n",
            "2024-06-21 16:49:50,745 - urllib3.connectionpool - DEBUG - https://bigquery.googleapis.com:443 \"POST /bigquery/v2/projects/uk-bh-experiments-argolis/queries?prettyPrint=false HTTP/11\" 200 None\n",
            "2024-06-21 16:49:50,747 - embeddings.store_embeddings - INFO - Delete tablecolumn_details_embeddings row: breedr and table_name= activities and column_name= payload \n",
            "2024-06-21 16:49:52,716 - urllib3.connectionpool - DEBUG - https://bigquery.googleapis.com:443 \"POST /bigquery/v2/projects/uk-bh-experiments-argolis/queries?prettyPrint=false HTTP/11\" 200 None\n",
            "2024-06-21 16:49:52,720 - embeddings.store_embeddings - INFO - Delete tablecolumn_details_embeddings row: breedr and table_name= activities and column_name= unique_hash \n",
            "2024-06-21 16:49:54,738 - urllib3.connectionpool - DEBUG - https://bigquery.googleapis.com:443 \"POST /bigquery/v2/projects/uk-bh-experiments-argolis/queries?prettyPrint=false HTTP/11\" 200 None\n",
            "2024-06-21 16:49:54,743 - embeddings.store_embeddings - INFO - Delete tablecolumn_details_embeddings row: breedr and table_name= activities and column_name= updated_at \n",
            "2024-06-21 16:49:56,905 - urllib3.connectionpool - DEBUG - https://bigquery.googleapis.com:443 \"POST /bigquery/v2/projects/uk-bh-experiments-argolis/queries?prettyPrint=false HTTP/11\" 200 None\n",
            "2024-06-21 16:49:56,909 - embeddings.store_embeddings - INFO - Delete tablecolumn_details_embeddings row: breedr and table_name= activity_types and column_name= id \n",
            "2024-06-21 16:49:59,142 - urllib3.connectionpool - DEBUG - https://bigquery.googleapis.com:443 \"POST /bigquery/v2/projects/uk-bh-experiments-argolis/queries?prettyPrint=false HTTP/11\" 200 None\n",
            "2024-06-21 16:49:59,144 - embeddings.store_embeddings - INFO - Delete tablecolumn_details_embeddings row: breedr and table_name= activity_types and column_name= image \n",
            "2024-06-21 16:50:01,126 - urllib3.connectionpool - DEBUG - https://bigquery.googleapis.com:443 \"POST /bigquery/v2/projects/uk-bh-experiments-argolis/queries?prettyPrint=false HTTP/11\" 200 None\n",
            "2024-06-21 16:50:01,130 - embeddings.store_embeddings - INFO - Delete tablecolumn_details_embeddings row: breedr and table_name= activity_types and column_name= image_svg \n",
            "2024-06-21 16:50:03,404 - urllib3.connectionpool - DEBUG - https://bigquery.googleapis.com:443 \"POST /bigquery/v2/projects/uk-bh-experiments-argolis/queries?prettyPrint=false HTTP/11\" 200 None\n",
            "2024-06-21 16:50:03,411 - embeddings.store_embeddings - INFO - Delete tablecolumn_details_embeddings row: breedr and table_name= activity_types and column_name= is_copyable \n",
            "2024-06-21 16:50:10,803 - urllib3.connectionpool - DEBUG - https://bigquery.googleapis.com:443 \"POST /bigquery/v2/projects/uk-bh-experiments-argolis/queries?prettyPrint=false HTTP/11\" 200 None\n",
            "2024-06-21 16:50:10,806 - embeddings.store_embeddings - INFO - Delete tablecolumn_details_embeddings row: breedr and table_name= activity_types and column_name= is_extendable \n",
            "2024-06-21 16:50:12,864 - urllib3.connectionpool - DEBUG - https://bigquery.googleapis.com:443 \"POST /bigquery/v2/projects/uk-bh-experiments-argolis/queries?prettyPrint=false HTTP/11\" 200 None\n",
            "2024-06-21 16:50:12,871 - embeddings.store_embeddings - INFO - Delete tablecolumn_details_embeddings row: breedr and table_name= activity_types and column_name= is_public \n",
            "2024-06-21 16:50:14,885 - urllib3.connectionpool - DEBUG - https://bigquery.googleapis.com:443 \"POST /bigquery/v2/projects/uk-bh-experiments-argolis/queries?prettyPrint=false HTTP/11\" 200 None\n",
            "2024-06-21 16:50:14,890 - embeddings.store_embeddings - INFO - Delete tablecolumn_details_embeddings row: breedr and table_name= activity_types and column_name= is_system \n",
            "2024-06-21 16:50:17,063 - urllib3.connectionpool - DEBUG - https://bigquery.googleapis.com:443 \"POST /bigquery/v2/projects/uk-bh-experiments-argolis/queries?prettyPrint=false HTTP/11\" 200 None\n",
            "2024-06-21 16:50:17,067 - embeddings.store_embeddings - INFO - Delete tablecolumn_details_embeddings row: breedr and table_name= activity_types and column_name= name \n",
            "2024-06-21 16:50:19,111 - urllib3.connectionpool - DEBUG - https://bigquery.googleapis.com:443 \"POST /bigquery/v2/projects/uk-bh-experiments-argolis/queries?prettyPrint=false HTTP/11\" 200 None\n",
            "2024-06-21 16:50:19,114 - embeddings.store_embeddings - INFO - Delete tablecolumn_details_embeddings row: breedr and table_name= activity_types and column_name= position \n",
            "2024-06-21 16:50:21,056 - urllib3.connectionpool - DEBUG - https://bigquery.googleapis.com:443 \"POST /bigquery/v2/projects/uk-bh-experiments-argolis/queries?prettyPrint=false HTTP/11\" 200 None\n",
            "2024-06-21 16:50:21,061 - embeddings.store_embeddings - INFO - Delete tablecolumn_details_embeddings row: breedr and table_name= activity_types and column_name= slug \n",
            "2024-06-21 16:50:23,111 - urllib3.connectionpool - DEBUG - https://bigquery.googleapis.com:443 \"POST /bigquery/v2/projects/uk-bh-experiments-argolis/queries?prettyPrint=false HTTP/11\" 200 None\n",
            "2024-06-21 16:50:23,115 - embeddings.store_embeddings - INFO - Delete tablecolumn_details_embeddings row: breedr and table_name= animal_breeds and column_name= animal_type_id \n",
            "2024-06-21 16:50:31,272 - urllib3.connectionpool - DEBUG - https://bigquery.googleapis.com:443 \"POST /bigquery/v2/projects/uk-bh-experiments-argolis/queries?prettyPrint=false HTTP/11\" 200 None\n",
            "2024-06-21 16:50:31,276 - embeddings.store_embeddings - INFO - Delete tablecolumn_details_embeddings row: breedr and table_name= animal_breeds and column_name= birth_weight \n",
            "2024-06-21 16:50:33,342 - urllib3.connectionpool - DEBUG - https://bigquery.googleapis.com:443 \"POST /bigquery/v2/projects/uk-bh-experiments-argolis/queries?prettyPrint=false HTTP/11\" 200 None\n",
            "2024-06-21 16:50:33,349 - embeddings.store_embeddings - INFO - Delete tablecolumn_details_embeddings row: breedr and table_name= animal_breeds and column_name= breedr_code \n",
            "2024-06-21 16:50:36,109 - urllib3.connectionpool - DEBUG - https://bigquery.googleapis.com:443 \"POST /bigquery/v2/projects/uk-bh-experiments-argolis/queries?prettyPrint=false HTTP/11\" 200 None\n",
            "2024-06-21 16:50:36,114 - embeddings.store_embeddings - INFO - Delete tablecolumn_details_embeddings row: breedr and table_name= animal_breeds and column_name= classification \n",
            "2024-06-21 16:50:38,156 - urllib3.connectionpool - DEBUG - https://bigquery.googleapis.com:443 \"POST /bigquery/v2/projects/uk-bh-experiments-argolis/queries?prettyPrint=false HTTP/11\" 200 None\n",
            "2024-06-21 16:50:38,160 - embeddings.store_embeddings - INFO - Delete tablecolumn_details_embeddings row: breedr and table_name= animal_breeds and column_name= id \n",
            "2024-06-21 16:50:40,023 - urllib3.connectionpool - DEBUG - https://bigquery.googleapis.com:443 \"POST /bigquery/v2/projects/uk-bh-experiments-argolis/queries?prettyPrint=false HTTP/11\" 200 None\n",
            "2024-06-21 16:50:40,026 - embeddings.store_embeddings - INFO - Delete tablecolumn_details_embeddings row: breedr and table_name= animal_breeds and column_name= is_obsolete \n",
            "2024-06-21 16:50:42,139 - urllib3.connectionpool - DEBUG - https://bigquery.googleapis.com:443 \"POST /bigquery/v2/projects/uk-bh-experiments-argolis/queries?prettyPrint=false HTTP/11\" 200 None\n",
            "2024-06-21 16:50:42,142 - embeddings.store_embeddings - INFO - Delete tablecolumn_details_embeddings row: breedr and table_name= animal_breeds and column_name= name \n",
            "2024-06-21 16:50:44,198 - urllib3.connectionpool - DEBUG - https://bigquery.googleapis.com:443 \"POST /bigquery/v2/projects/uk-bh-experiments-argolis/queries?prettyPrint=false HTTP/11\" 200 None\n",
            "2024-06-21 16:50:44,202 - embeddings.store_embeddings - INFO - Delete tablecolumn_details_embeddings row: breedr and table_name= animal_breeds and column_name= new_classification \n",
            "2024-06-21 16:50:46,206 - urllib3.connectionpool - DEBUG - https://bigquery.googleapis.com:443 \"POST /bigquery/v2/projects/uk-bh-experiments-argolis/queries?prettyPrint=false HTTP/11\" 200 None\n",
            "2024-06-21 16:50:46,208 - embeddings.store_embeddings - INFO - Delete tablecolumn_details_embeddings row: breedr and table_name= animal_breeds and column_name= reg_breed_code \n",
            "2024-06-21 16:50:48,397 - urllib3.connectionpool - DEBUG - https://bigquery.googleapis.com:443 \"POST /bigquery/v2/projects/uk-bh-experiments-argolis/queries?prettyPrint=false HTTP/11\" 200 None\n",
            "2024-06-21 16:50:48,402 - embeddings.store_embeddings - INFO - Delete tablecolumn_details_embeddings row: breedr and table_name= animal_breeds and column_name= reg_name \n",
            "2024-06-21 16:50:50,412 - urllib3.connectionpool - DEBUG - https://bigquery.googleapis.com:443 \"POST /bigquery/v2/projects/uk-bh-experiments-argolis/queries?prettyPrint=false HTTP/11\" 200 None\n",
            "2024-06-21 16:50:50,419 - embeddings.store_embeddings - INFO - Delete tablecolumn_details_embeddings row: breedr and table_name= animal_breeds and column_name= region_id \n",
            "2024-06-21 16:50:52,316 - urllib3.connectionpool - DEBUG - https://bigquery.googleapis.com:443 \"POST /bigquery/v2/projects/uk-bh-experiments-argolis/queries?prettyPrint=false HTTP/11\" 200 None\n",
            "2024-06-21 16:50:52,321 - embeddings.store_embeddings - INFO - Delete tablecolumn_details_embeddings row: breedr and table_name= animal_breeds and column_name= version \n",
            "2024-06-21 16:51:00,685 - urllib3.connectionpool - DEBUG - https://bigquery.googleapis.com:443 \"POST /bigquery/v2/projects/uk-bh-experiments-argolis/queries?prettyPrint=false HTTP/11\" 200 None\n",
            "2024-06-21 16:51:00,687 - embeddings.store_embeddings - INFO - Delete tablecolumn_details_embeddings row: breedr and table_name= animals and column_name= animal_colour_id \n",
            "2024-06-21 16:51:03,449 - urllib3.connectionpool - DEBUG - https://bigquery.googleapis.com:443 \"POST /bigquery/v2/projects/uk-bh-experiments-argolis/queries?prettyPrint=false HTTP/11\" 200 None\n",
            "2024-06-21 16:51:03,452 - embeddings.store_embeddings - INFO - Delete tablecolumn_details_embeddings row: breedr and table_name= animals and column_name= animal_subtype \n",
            "2024-06-21 16:51:05,704 - urllib3.connectionpool - DEBUG - https://bigquery.googleapis.com:443 \"POST /bigquery/v2/projects/uk-bh-experiments-argolis/queries?prettyPrint=false HTTP/11\" 200 None\n",
            "2024-06-21 16:51:05,705 - embeddings.store_embeddings - INFO - Delete tablecolumn_details_embeddings row: breedr and table_name= animals and column_name= animal_type_id \n",
            "2024-06-21 16:51:07,957 - urllib3.connectionpool - DEBUG - https://bigquery.googleapis.com:443 \"POST /bigquery/v2/projects/uk-bh-experiments-argolis/queries?prettyPrint=false HTTP/11\" 200 None\n",
            "2024-06-21 16:51:07,962 - embeddings.store_embeddings - INFO - Delete tablecolumn_details_embeddings row: breedr and table_name= animals and column_name= birth_information_id \n",
            "2024-06-21 16:51:10,310 - urllib3.connectionpool - DEBUG - https://bigquery.googleapis.com:443 \"POST /bigquery/v2/projects/uk-bh-experiments-argolis/queries?prettyPrint=false HTTP/11\" 200 None\n",
            "2024-06-21 16:51:10,313 - embeddings.store_embeddings - INFO - Delete tablecolumn_details_embeddings row: breedr and table_name= animals and column_name= breed_society_registration \n",
            "2024-06-21 16:51:12,524 - urllib3.connectionpool - DEBUG - https://bigquery.googleapis.com:443 \"POST /bigquery/v2/projects/uk-bh-experiments-argolis/queries?prettyPrint=false HTTP/11\" 200 None\n",
            "2024-06-21 16:51:12,531 - embeddings.store_embeddings - INFO - Delete tablecolumn_details_embeddings row: breedr and table_name= animals and column_name= breeding \n",
            "2024-06-21 16:51:14,613 - urllib3.connectionpool - DEBUG - https://bigquery.googleapis.com:443 \"POST /bigquery/v2/projects/uk-bh-experiments-argolis/queries?prettyPrint=false HTTP/11\" 200 None\n",
            "2024-06-21 16:51:14,619 - embeddings.store_embeddings - INFO - Delete tablecolumn_details_embeddings row: breedr and table_name= animals and column_name= children \n",
            "2024-06-21 16:51:16,660 - urllib3.connectionpool - DEBUG - https://bigquery.googleapis.com:443 \"POST /bigquery/v2/projects/uk-bh-experiments-argolis/queries?prettyPrint=false HTTP/11\" 200 None\n",
            "2024-06-21 16:51:16,663 - embeddings.store_embeddings - INFO - Delete tablecolumn_details_embeddings row: breedr and table_name= animals and column_name= created_at \n",
            "2024-06-21 16:51:18,912 - urllib3.connectionpool - DEBUG - https://bigquery.googleapis.com:443 \"POST /bigquery/v2/projects/uk-bh-experiments-argolis/queries?prettyPrint=false HTTP/11\" 200 None\n",
            "2024-06-21 16:51:18,916 - embeddings.store_embeddings - INFO - Delete tablecolumn_details_embeddings row: breedr and table_name= animals and column_name= dam_id \n",
            "2024-06-21 16:51:20,939 - urllib3.connectionpool - DEBUG - https://bigquery.googleapis.com:443 \"POST /bigquery/v2/projects/uk-bh-experiments-argolis/queries?prettyPrint=false HTTP/11\" 200 None\n",
            "2024-06-21 16:51:20,942 - embeddings.store_embeddings - INFO - Delete tablecolumn_details_embeddings row: breedr and table_name= animals and column_name= dam_passport_number \n",
            "2024-06-21 16:51:23,110 - urllib3.connectionpool - DEBUG - https://bigquery.googleapis.com:443 \"POST /bigquery/v2/projects/uk-bh-experiments-argolis/queries?prettyPrint=false HTTP/11\" 200 None\n",
            "2024-06-21 16:51:23,115 - embeddings.store_embeddings - INFO - Delete tablecolumn_details_embeddings row: breedr and table_name= animals and column_name= dam_passport_number_cleaned \n",
            "2024-06-21 16:51:30,893 - urllib3.connectionpool - DEBUG - https://bigquery.googleapis.com:443 \"POST /bigquery/v2/projects/uk-bh-experiments-argolis/queries?prettyPrint=false HTTP/11\" 200 None\n",
            "2024-06-21 16:51:30,897 - embeddings.store_embeddings - INFO - Delete tablecolumn_details_embeddings row: breedr and table_name= animals and column_name= date_left_farm \n",
            "2024-06-21 16:51:33,189 - urllib3.connectionpool - DEBUG - https://bigquery.googleapis.com:443 \"POST /bigquery/v2/projects/uk-bh-experiments-argolis/queries?prettyPrint=false HTTP/11\" 200 None\n",
            "2024-06-21 16:51:33,193 - embeddings.store_embeddings - INFO - Delete tablecolumn_details_embeddings row: breedr and table_name= animals and column_name= date_moved_to_farm \n",
            "2024-06-21 16:51:35,399 - urllib3.connectionpool - DEBUG - https://bigquery.googleapis.com:443 \"POST /bigquery/v2/projects/uk-bh-experiments-argolis/queries?prettyPrint=false HTTP/11\" 200 None\n",
            "2024-06-21 16:51:35,404 - embeddings.store_embeddings - INFO - Delete tablecolumn_details_embeddings row: breedr and table_name= animals and column_name= dead_at \n",
            "2024-06-21 16:51:37,754 - urllib3.connectionpool - DEBUG - https://bigquery.googleapis.com:443 \"POST /bigquery/v2/projects/uk-bh-experiments-argolis/queries?prettyPrint=false HTTP/11\" 200 None\n",
            "2024-06-21 16:51:37,758 - embeddings.store_embeddings - INFO - Delete tablecolumn_details_embeddings row: breedr and table_name= animals and column_name= description \n",
            "2024-06-21 16:51:40,006 - urllib3.connectionpool - DEBUG - https://bigquery.googleapis.com:443 \"POST /bigquery/v2/projects/uk-bh-experiments-argolis/queries?prettyPrint=false HTTP/11\" 200 None\n",
            "2024-06-21 16:51:40,009 - embeddings.store_embeddings - INFO - Delete tablecolumn_details_embeddings row: breedr and table_name= animals and column_name= dob \n",
            "2024-06-21 16:51:42,019 - urllib3.connectionpool - DEBUG - https://bigquery.googleapis.com:443 \"POST /bigquery/v2/projects/uk-bh-experiments-argolis/queries?prettyPrint=false HTTP/11\" 200 None\n",
            "2024-06-21 16:51:42,021 - embeddings.store_embeddings - INFO - Delete tablecolumn_details_embeddings row: breedr and table_name= animals and column_name= e_id \n",
            "2024-06-21 16:51:44,000 - urllib3.connectionpool - DEBUG - https://bigquery.googleapis.com:443 \"POST /bigquery/v2/projects/uk-bh-experiments-argolis/queries?prettyPrint=false HTTP/11\" 200 None\n",
            "2024-06-21 16:51:44,004 - embeddings.store_embeddings - INFO - Delete tablecolumn_details_embeddings row: breedr and table_name= animals and column_name= e_id_cleaned \n",
            "2024-06-21 16:51:46,179 - urllib3.connectionpool - DEBUG - https://bigquery.googleapis.com:443 \"POST /bigquery/v2/projects/uk-bh-experiments-argolis/queries?prettyPrint=false HTTP/11\" 200 None\n",
            "2024-06-21 16:51:46,183 - embeddings.store_embeddings - INFO - Delete tablecolumn_details_embeddings row: breedr and table_name= animals and column_name= e_ids_history \n",
            "2024-06-21 16:51:48,404 - urllib3.connectionpool - DEBUG - https://bigquery.googleapis.com:443 \"POST /bigquery/v2/projects/uk-bh-experiments-argolis/queries?prettyPrint=false HTTP/11\" 200 None\n",
            "2024-06-21 16:51:48,408 - embeddings.store_embeddings - INFO - Delete tablecolumn_details_embeddings row: breedr and table_name= animals and column_name= field_id \n",
            "2024-06-21 16:51:50,899 - urllib3.connectionpool - DEBUG - https://bigquery.googleapis.com:443 \"POST /bigquery/v2/projects/uk-bh-experiments-argolis/queries?prettyPrint=false HTTP/11\" 200 None\n",
            "2024-06-21 16:51:50,902 - embeddings.store_embeddings - INFO - Delete tablecolumn_details_embeddings row: breedr and table_name= animals and column_name= group_id \n",
            "2024-06-21 16:51:53,113 - urllib3.connectionpool - DEBUG - https://bigquery.googleapis.com:443 \"POST /bigquery/v2/projects/uk-bh-experiments-argolis/queries?prettyPrint=false HTTP/11\" 200 None\n",
            "2024-06-21 16:51:53,115 - embeddings.store_embeddings - INFO - Delete tablecolumn_details_embeddings row: breedr and table_name= animals and column_name= id \n",
            "2024-06-21 16:51:55,469 - urllib3.connectionpool - DEBUG - https://bigquery.googleapis.com:443 \"POST /bigquery/v2/projects/uk-bh-experiments-argolis/queries?prettyPrint=false HTTP/11\" 200 None\n",
            "2024-06-21 16:51:55,472 - embeddings.store_embeddings - INFO - Delete tablecolumn_details_embeddings row: breedr and table_name= animals and column_name= impact_status \n",
            "2024-06-21 16:51:57,549 - urllib3.connectionpool - DEBUG - https://bigquery.googleapis.com:443 \"POST /bigquery/v2/projects/uk-bh-experiments-argolis/queries?prettyPrint=false HTTP/11\" 200 None\n",
            "2024-06-21 16:51:57,552 - embeddings.store_embeddings - INFO - Delete tablecolumn_details_embeddings row: breedr and table_name= animals and column_name= is_birthed \n",
            "2024-06-21 16:51:59,770 - urllib3.connectionpool - DEBUG - https://bigquery.googleapis.com:443 \"POST /bigquery/v2/projects/uk-bh-experiments-argolis/queries?prettyPrint=false HTTP/11\" 200 None\n",
            "2024-06-21 16:51:59,773 - embeddings.store_embeddings - INFO - Delete tablecolumn_details_embeddings row: breedr and table_name= animals and column_name= is_castrated \n",
            "2024-06-21 16:52:01,921 - urllib3.connectionpool - DEBUG - https://bigquery.googleapis.com:443 \"POST /bigquery/v2/projects/uk-bh-experiments-argolis/queries?prettyPrint=false HTTP/11\" 200 None\n",
            "2024-06-21 16:52:01,924 - embeddings.store_embeddings - INFO - Delete tablecolumn_details_embeddings row: breedr and table_name= animals and column_name= is_male \n",
            "2024-06-21 16:52:04,173 - urllib3.connectionpool - DEBUG - https://bigquery.googleapis.com:443 \"POST /bigquery/v2/projects/uk-bh-experiments-argolis/queries?prettyPrint=false HTTP/11\" 200 None\n",
            "2024-06-21 16:52:04,178 - embeddings.store_embeddings - INFO - Delete tablecolumn_details_embeddings row: breedr and table_name= animals and column_name= is_on_farm \n",
            "2024-06-21 16:52:06,324 - urllib3.connectionpool - DEBUG - https://bigquery.googleapis.com:443 \"POST /bigquery/v2/projects/uk-bh-experiments-argolis/queries?prettyPrint=false HTTP/11\" 200 None\n",
            "2024-06-21 16:52:06,328 - embeddings.store_embeddings - INFO - Delete tablecolumn_details_embeddings row: breedr and table_name= animals and column_name= is_owned_by_impact \n",
            "2024-06-21 16:52:08,372 - urllib3.connectionpool - DEBUG - https://bigquery.googleapis.com:443 \"POST /bigquery/v2/projects/uk-bh-experiments-argolis/queries?prettyPrint=false HTTP/11\" 200 None\n",
            "2024-06-21 16:52:08,376 - embeddings.store_embeddings - INFO - Delete tablecolumn_details_embeddings row: breedr and table_name= animals and column_name= is_pedigree \n",
            "2024-06-21 16:52:10,522 - urllib3.connectionpool - DEBUG - https://bigquery.googleapis.com:443 \"POST /bigquery/v2/projects/uk-bh-experiments-argolis/queries?prettyPrint=false HTTP/11\" 200 None\n",
            "2024-06-21 16:52:10,524 - embeddings.store_embeddings - INFO - Delete tablecolumn_details_embeddings row: breedr and table_name= animals and column_name= is_pregnant \n",
            "2024-06-21 16:52:12,673 - urllib3.connectionpool - DEBUG - https://bigquery.googleapis.com:443 \"POST /bigquery/v2/projects/uk-bh-experiments-argolis/queries?prettyPrint=false HTTP/11\" 200 None\n",
            "2024-06-21 16:52:12,676 - embeddings.store_embeddings - INFO - Delete tablecolumn_details_embeddings row: breedr and table_name= animals and column_name= is_regulatory_synced \n",
            "2024-06-21 16:52:14,886 - urllib3.connectionpool - DEBUG - https://bigquery.googleapis.com:443 \"POST /bigquery/v2/projects/uk-bh-experiments-argolis/queries?prettyPrint=false HTTP/11\" 200 None\n",
            "2024-06-21 16:52:14,888 - embeddings.store_embeddings - INFO - Delete tablecolumn_details_embeddings row: breedr and table_name= animals and column_name= is_soft_deleted \n",
            "2024-06-21 16:52:16,973 - urllib3.connectionpool - DEBUG - https://bigquery.googleapis.com:443 \"POST /bigquery/v2/projects/uk-bh-experiments-argolis/queries?prettyPrint=false HTTP/11\" 200 None\n",
            "2024-06-21 16:52:16,977 - embeddings.store_embeddings - INFO - Delete tablecolumn_details_embeddings row: breedr and table_name= animals and column_name= kill_fat_score \n",
            "2024-06-21 16:52:18,980 - urllib3.connectionpool - DEBUG - https://bigquery.googleapis.com:443 \"POST /bigquery/v2/projects/uk-bh-experiments-argolis/queries?prettyPrint=false HTTP/11\" 200 None\n",
            "2024-06-21 16:52:18,984 - embeddings.store_embeddings - INFO - Delete tablecolumn_details_embeddings row: breedr and table_name= animals and column_name= kill_fat_score_int \n",
            "2024-06-21 16:52:20,967 - urllib3.connectionpool - DEBUG - https://bigquery.googleapis.com:443 \"POST /bigquery/v2/projects/uk-bh-experiments-argolis/queries?prettyPrint=false HTTP/11\" 200 None\n",
            "2024-06-21 16:52:20,972 - embeddings.store_embeddings - INFO - Delete tablecolumn_details_embeddings row: breedr and table_name= animals and column_name= kill_quality \n",
            "2024-06-21 16:52:23,220 - urllib3.connectionpool - DEBUG - https://bigquery.googleapis.com:443 \"POST /bigquery/v2/projects/uk-bh-experiments-argolis/queries?prettyPrint=false HTTP/11\" 200 None\n",
            "2024-06-21 16:52:23,223 - embeddings.store_embeddings - INFO - Delete tablecolumn_details_embeddings row: breedr and table_name= animals and column_name= kill_quality_int \n",
            "2024-06-21 16:52:33,036 - urllib3.connectionpool - DEBUG - https://bigquery.googleapis.com:443 \"POST /bigquery/v2/projects/uk-bh-experiments-argolis/queries?prettyPrint=false HTTP/11\" 200 None\n",
            "2024-06-21 16:52:33,267 - urllib3.connectionpool - DEBUG - https://bigquery.googleapis.com:443 \"GET /bigquery/v2/projects/uk-bh-experiments-argolis/jobs/job_2cG2-psH6NvY_r5oNwiPM17jSihm?projection=full&location=us-central1&prettyPrint=false HTTP/11\" 200 None\n",
            "2024-06-21 16:52:34,894 - urllib3.connectionpool - DEBUG - https://bigquery.googleapis.com:443 \"GET /bigquery/v2/projects/uk-bh-experiments-argolis/queries/job_2cG2-psH6NvY_r5oNwiPM17jSihm?maxResults=0&location=us-central1&prettyPrint=false HTTP/11\" 200 None\n",
            "2024-06-21 16:52:35,200 - urllib3.connectionpool - DEBUG - https://bigquery.googleapis.com:443 \"GET /bigquery/v2/projects/uk-bh-experiments-argolis/jobs/job_2cG2-psH6NvY_r5oNwiPM17jSihm?projection=full&location=us-central1&prettyPrint=false HTTP/11\" 200 None\n",
            "2024-06-21 16:52:35,204 - embeddings.store_embeddings - INFO - Delete tablecolumn_details_embeddings row: breedr and table_name= animals and column_name= kill_weight \n",
            "2024-06-21 16:52:37,235 - urllib3.connectionpool - DEBUG - https://bigquery.googleapis.com:443 \"POST /bigquery/v2/projects/uk-bh-experiments-argolis/queries?prettyPrint=false HTTP/11\" 200 None\n",
            "2024-06-21 16:52:37,250 - embeddings.store_embeddings - INFO - Delete tablecolumn_details_embeddings row: breedr and table_name= animals and column_name= last_regulatory_synced_date \n",
            "2024-06-21 16:52:39,297 - urllib3.connectionpool - DEBUG - https://bigquery.googleapis.com:443 \"POST /bigquery/v2/projects/uk-bh-experiments-argolis/queries?prettyPrint=false HTTP/11\" 200 None\n",
            "2024-06-21 16:52:39,301 - embeddings.store_embeddings - INFO - Delete tablecolumn_details_embeddings row: breedr and table_name= animals and column_name= link_to_my_sire_id \n",
            "2024-06-21 16:52:41,550 - urllib3.connectionpool - DEBUG - https://bigquery.googleapis.com:443 \"POST /bigquery/v2/projects/uk-bh-experiments-argolis/queries?prettyPrint=false HTTP/11\" 200 None\n",
            "2024-06-21 16:52:41,554 - embeddings.store_embeddings - INFO - Delete tablecolumn_details_embeddings row: breedr and table_name= animals and column_name= link_to_origin_animal_id \n",
            "2024-06-21 16:52:43,700 - urllib3.connectionpool - DEBUG - https://bigquery.googleapis.com:443 \"POST /bigquery/v2/projects/uk-bh-experiments-argolis/queries?prettyPrint=false HTTP/11\" 200 None\n",
            "2024-06-21 16:52:43,704 - embeddings.store_embeddings - INFO - Delete tablecolumn_details_embeddings row: breedr and table_name= animals and column_name= location_id \n",
            "2024-06-21 16:52:45,850 - urllib3.connectionpool - DEBUG - https://bigquery.googleapis.com:443 \"POST /bigquery/v2/projects/uk-bh-experiments-argolis/queries?prettyPrint=false HTTP/11\" 200 None\n",
            "2024-06-21 16:52:45,853 - embeddings.store_embeddings - INFO - Delete tablecolumn_details_embeddings row: breedr and table_name= animals and column_name= lot_id \n",
            "2024-06-21 16:52:47,917 - urllib3.connectionpool - DEBUG - https://bigquery.googleapis.com:443 \"POST /bigquery/v2/projects/uk-bh-experiments-argolis/queries?prettyPrint=false HTTP/11\" 200 None\n",
            "2024-06-21 16:52:47,921 - embeddings.store_embeddings - INFO - Delete tablecolumn_details_embeddings row: breedr and table_name= animals and column_name= meta_data \n",
            "2024-06-21 16:52:50,051 - urllib3.connectionpool - DEBUG - https://bigquery.googleapis.com:443 \"POST /bigquery/v2/projects/uk-bh-experiments-argolis/queries?prettyPrint=false HTTP/11\" 200 None\n",
            "2024-06-21 16:52:50,055 - embeddings.store_embeddings - INFO - Delete tablecolumn_details_embeddings row: breedr and table_name= animals and column_name= name \n",
            "2024-06-21 16:52:52,052 - urllib3.connectionpool - DEBUG - https://bigquery.googleapis.com:443 \"POST /bigquery/v2/projects/uk-bh-experiments-argolis/queries?prettyPrint=false HTTP/11\" 200 None\n",
            "2024-06-21 16:52:52,056 - embeddings.store_embeddings - INFO - Delete tablecolumn_details_embeddings row: breedr and table_name= animals and column_name= owner_id \n",
            "2024-06-21 16:52:54,042 - urllib3.connectionpool - DEBUG - https://bigquery.googleapis.com:443 \"POST /bigquery/v2/projects/uk-bh-experiments-argolis/queries?prettyPrint=false HTTP/11\" 200 None\n",
            "2024-06-21 16:52:54,046 - embeddings.store_embeddings - INFO - Delete tablecolumn_details_embeddings row: breedr and table_name= animals and column_name= owners_history \n",
            "2024-06-21 16:52:56,092 - urllib3.connectionpool - DEBUG - https://bigquery.googleapis.com:443 \"POST /bigquery/v2/projects/uk-bh-experiments-argolis/queries?prettyPrint=false HTTP/11\" 200 None\n",
            "2024-06-21 16:52:56,099 - embeddings.store_embeddings - INFO - Delete tablecolumn_details_embeddings row: breedr and table_name= animals and column_name= passport_number \n",
            "2024-06-21 16:52:58,080 - urllib3.connectionpool - DEBUG - https://bigquery.googleapis.com:443 \"POST /bigquery/v2/projects/uk-bh-experiments-argolis/queries?prettyPrint=false HTTP/11\" 200 None\n",
            "2024-06-21 16:52:58,084 - embeddings.store_embeddings - INFO - Delete tablecolumn_details_embeddings row: breedr and table_name= animals and column_name= passport_number_cleaned \n",
            "2024-06-21 16:53:00,187 - urllib3.connectionpool - DEBUG - https://bigquery.googleapis.com:443 \"POST /bigquery/v2/projects/uk-bh-experiments-argolis/queries?prettyPrint=false HTTP/11\" 200 None\n",
            "2024-06-21 16:53:00,193 - embeddings.store_embeddings - INFO - Delete tablecolumn_details_embeddings row: breedr and table_name= animals and column_name= pedigree \n",
            "2024-06-21 16:53:02,337 - urllib3.connectionpool - DEBUG - https://bigquery.googleapis.com:443 \"POST /bigquery/v2/projects/uk-bh-experiments-argolis/queries?prettyPrint=false HTTP/11\" 200 None\n",
            "2024-06-21 16:53:02,340 - embeddings.store_embeddings - INFO - Delete tablecolumn_details_embeddings row: breedr and table_name= animals and column_name= pregnancy_due_date \n",
            "2024-06-21 16:53:04,392 - urllib3.connectionpool - DEBUG - https://bigquery.googleapis.com:443 \"POST /bigquery/v2/projects/uk-bh-experiments-argolis/queries?prettyPrint=false HTTP/11\" 200 None\n",
            "2024-06-21 16:53:04,395 - embeddings.store_embeddings - INFO - Delete tablecolumn_details_embeddings row: breedr and table_name= animals and column_name= registration_status \n",
            "2024-06-21 16:53:06,536 - urllib3.connectionpool - DEBUG - https://bigquery.googleapis.com:443 \"POST /bigquery/v2/projects/uk-bh-experiments-argolis/queries?prettyPrint=false HTTP/11\" 200 None\n",
            "2024-06-21 16:53:06,540 - embeddings.store_embeddings - INFO - Delete tablecolumn_details_embeddings row: breedr and table_name= animals and column_name= related_meat_labels \n",
            "2024-06-21 16:53:08,482 - urllib3.connectionpool - DEBUG - https://bigquery.googleapis.com:443 \"POST /bigquery/v2/projects/uk-bh-experiments-argolis/queries?prettyPrint=false HTTP/11\" 200 None\n",
            "2024-06-21 16:53:08,485 - embeddings.store_embeddings - INFO - Delete tablecolumn_details_embeddings row: breedr and table_name= animals and column_name= sire_id \n",
            "2024-06-21 16:53:10,612 - urllib3.connectionpool - DEBUG - https://bigquery.googleapis.com:443 \"POST /bigquery/v2/projects/uk-bh-experiments-argolis/queries?prettyPrint=false HTTP/11\" 200 None\n",
            "2024-06-21 16:53:10,616 - embeddings.store_embeddings - INFO - Delete tablecolumn_details_embeddings row: breedr and table_name= animals and column_name= sire_is_pedigree \n",
            "2024-06-21 16:53:12,885 - urllib3.connectionpool - DEBUG - https://bigquery.googleapis.com:443 \"POST /bigquery/v2/projects/uk-bh-experiments-argolis/queries?prettyPrint=false HTTP/11\" 200 None\n",
            "2024-06-21 16:53:12,888 - embeddings.store_embeddings - INFO - Delete tablecolumn_details_embeddings row: breedr and table_name= animals and column_name= sire_passport_number \n",
            "2024-06-21 16:53:21,078 - urllib3.connectionpool - DEBUG - https://bigquery.googleapis.com:443 \"POST /bigquery/v2/projects/uk-bh-experiments-argolis/queries?prettyPrint=false HTTP/11\" 200 None\n",
            "2024-06-21 16:53:21,081 - embeddings.store_embeddings - INFO - Delete tablecolumn_details_embeddings row: breedr and table_name= animals and column_name= sire_passport_number_cleaned \n",
            "2024-06-21 16:53:23,125 - urllib3.connectionpool - DEBUG - https://bigquery.googleapis.com:443 \"POST /bigquery/v2/projects/uk-bh-experiments-argolis/queries?prettyPrint=false HTTP/11\" 200 None\n",
            "2024-06-21 16:53:23,128 - embeddings.store_embeddings - INFO - Delete tablecolumn_details_embeddings row: breedr and table_name= animals and column_name= sire_studs \n",
            "2024-06-21 16:53:25,166 - urllib3.connectionpool - DEBUG - https://bigquery.googleapis.com:443 \"POST /bigquery/v2/projects/uk-bh-experiments-argolis/queries?prettyPrint=false HTTP/11\" 200 None\n",
            "2024-06-21 16:53:25,170 - embeddings.store_embeddings - INFO - Delete tablecolumn_details_embeddings row: breedr and table_name= animals and column_name= soft_deleted_at \n",
            "2024-06-21 16:53:27,322 - urllib3.connectionpool - DEBUG - https://bigquery.googleapis.com:443 \"POST /bigquery/v2/projects/uk-bh-experiments-argolis/queries?prettyPrint=false HTTP/11\" 200 None\n",
            "2024-06-21 16:53:27,324 - embeddings.store_embeddings - INFO - Delete tablecolumn_details_embeddings row: breedr and table_name= animals and column_name= stud_sired_id \n",
            "2024-06-21 16:53:29,473 - urllib3.connectionpool - DEBUG - https://bigquery.googleapis.com:443 \"POST /bigquery/v2/projects/uk-bh-experiments-argolis/queries?prettyPrint=false HTTP/11\" 200 None\n",
            "2024-06-21 16:53:29,476 - embeddings.store_embeddings - INFO - Delete tablecolumn_details_embeddings row: breedr and table_name= animals and column_name= updated_at \n",
            "2024-06-21 16:53:31,521 - urllib3.connectionpool - DEBUG - https://bigquery.googleapis.com:443 \"POST /bigquery/v2/projects/uk-bh-experiments-argolis/queries?prettyPrint=false HTTP/11\" 200 None\n",
            "2024-06-21 16:53:31,525 - embeddings.store_embeddings - INFO - Delete tablecolumn_details_embeddings row: breedr and table_name= animals and column_name= updated_by_id \n",
            "2024-06-21 16:53:33,768 - urllib3.connectionpool - DEBUG - https://bigquery.googleapis.com:443 \"POST /bigquery/v2/projects/uk-bh-experiments-argolis/queries?prettyPrint=false HTTP/11\" 200 None\n",
            "2024-06-21 16:53:33,773 - embeddings.store_embeddings - INFO - Delete tablecolumn_details_embeddings row: breedr and table_name= animals and column_name= visual_id \n",
            "2024-06-21 16:53:35,924 - urllib3.connectionpool - DEBUG - https://bigquery.googleapis.com:443 \"POST /bigquery/v2/projects/uk-bh-experiments-argolis/queries?prettyPrint=false HTTP/11\" 200 None\n",
            "2024-06-21 16:53:35,929 - embeddings.store_embeddings - INFO - Delete tablecolumn_details_embeddings row: breedr and table_name= animals and column_name= visual_ids_history \n",
            "2024-06-21 16:53:37,972 - urllib3.connectionpool - DEBUG - https://bigquery.googleapis.com:443 \"POST /bigquery/v2/projects/uk-bh-experiments-argolis/queries?prettyPrint=false HTTP/11\" 200 None\n",
            "2024-06-21 16:53:37,977 - embeddings.store_embeddings - INFO - Delete tablecolumn_details_embeddings row: breedr and table_name= kill_information and column_name= animal_id \n",
            "2024-06-21 16:53:40,082 - urllib3.connectionpool - DEBUG - https://bigquery.googleapis.com:443 \"POST /bigquery/v2/projects/uk-bh-experiments-argolis/queries?prettyPrint=false HTTP/11\" 200 None\n",
            "2024-06-21 16:53:40,087 - embeddings.store_embeddings - INFO - Delete tablecolumn_details_embeddings row: breedr and table_name= kill_information and column_name= buyer \n",
            "2024-06-21 16:53:42,068 - urllib3.connectionpool - DEBUG - https://bigquery.googleapis.com:443 \"POST /bigquery/v2/projects/uk-bh-experiments-argolis/queries?prettyPrint=false HTTP/11\" 200 None\n",
            "2024-06-21 16:53:42,072 - embeddings.store_embeddings - INFO - Delete tablecolumn_details_embeddings row: breedr and table_name= kill_information and column_name= carcass_cold_weight \n",
            "2024-06-21 16:53:44,220 - urllib3.connectionpool - DEBUG - https://bigquery.googleapis.com:443 \"POST /bigquery/v2/projects/uk-bh-experiments-argolis/queries?prettyPrint=false HTTP/11\" 200 None\n",
            "2024-06-21 16:53:44,223 - embeddings.store_embeddings - INFO - Delete tablecolumn_details_embeddings row: breedr and table_name= kill_information and column_name= centre_name \n",
            "2024-06-21 16:53:46,267 - urllib3.connectionpool - DEBUG - https://bigquery.googleapis.com:443 \"POST /bigquery/v2/projects/uk-bh-experiments-argolis/queries?prettyPrint=false HTTP/11\" 200 None\n",
            "2024-06-21 16:53:46,275 - embeddings.store_embeddings - INFO - Delete tablecolumn_details_embeddings row: breedr and table_name= kill_information and column_name= centre_number \n",
            "2024-06-21 16:53:48,315 - urllib3.connectionpool - DEBUG - https://bigquery.googleapis.com:443 \"POST /bigquery/v2/projects/uk-bh-experiments-argolis/queries?prettyPrint=false HTTP/11\" 200 None\n",
            "2024-06-21 16:53:48,319 - embeddings.store_embeddings - INFO - Delete tablecolumn_details_embeddings row: breedr and table_name= kill_information and column_name= condemned_weight \n",
            "2024-06-21 16:53:50,363 - urllib3.connectionpool - DEBUG - https://bigquery.googleapis.com:443 \"POST /bigquery/v2/projects/uk-bh-experiments-argolis/queries?prettyPrint=false HTTP/11\" 200 None\n",
            "2024-06-21 16:53:50,371 - embeddings.store_embeddings - INFO - Delete tablecolumn_details_embeddings row: breedr and table_name= kill_information and column_name= condition \n",
            "2024-06-21 16:53:52,240 - urllib3.connectionpool - DEBUG - https://bigquery.googleapis.com:443 \"POST /bigquery/v2/projects/uk-bh-experiments-argolis/queries?prettyPrint=false HTTP/11\" 200 None\n",
            "2024-06-21 16:53:52,247 - embeddings.store_embeddings - INFO - Delete tablecolumn_details_embeddings row: breedr and table_name= kill_information and column_name= conformation \n",
            "2024-06-21 16:54:00,091 - urllib3.connectionpool - DEBUG - https://bigquery.googleapis.com:443 \"POST /bigquery/v2/projects/uk-bh-experiments-argolis/queries?prettyPrint=false HTTP/11\" 200 None\n",
            "2024-06-21 16:54:00,093 - embeddings.store_embeddings - INFO - Delete tablecolumn_details_embeddings row: breedr and table_name= kill_information and column_name= european_category \n",
            "2024-06-21 16:54:02,306 - urllib3.connectionpool - DEBUG - https://bigquery.googleapis.com:443 \"POST /bigquery/v2/projects/uk-bh-experiments-argolis/queries?prettyPrint=false HTTP/11\" 200 None\n",
            "2024-06-21 16:54:02,308 - embeddings.store_embeddings - INFO - Delete tablecolumn_details_embeddings row: breedr and table_name= kill_information and column_name= fat_class \n",
            "2024-06-21 16:54:04,512 - urllib3.connectionpool - DEBUG - https://bigquery.googleapis.com:443 \"POST /bigquery/v2/projects/uk-bh-experiments-argolis/queries?prettyPrint=false HTTP/11\" 200 None\n",
            "2024-06-21 16:54:04,516 - embeddings.store_embeddings - INFO - Delete tablecolumn_details_embeddings row: breedr and table_name= kill_information and column_name= grading \n",
            "2024-06-21 16:54:06,747 - urllib3.connectionpool - DEBUG - https://bigquery.googleapis.com:443 \"POST /bigquery/v2/projects/uk-bh-experiments-argolis/queries?prettyPrint=false HTTP/11\" 200 None\n",
            "2024-06-21 16:54:06,752 - embeddings.store_embeddings - INFO - Delete tablecolumn_details_embeddings row: breedr and table_name= kill_information and column_name= hot_weight \n",
            "2024-06-21 16:54:08,820 - urllib3.connectionpool - DEBUG - https://bigquery.googleapis.com:443 \"POST /bigquery/v2/projects/uk-bh-experiments-argolis/queries?prettyPrint=false HTTP/11\" 200 None\n",
            "2024-06-21 16:54:08,828 - embeddings.store_embeddings - INFO - Delete tablecolumn_details_embeddings row: breedr and table_name= kill_information and column_name= id \n",
            "2024-06-21 16:54:10,949 - urllib3.connectionpool - DEBUG - https://bigquery.googleapis.com:443 \"POST /bigquery/v2/projects/uk-bh-experiments-argolis/queries?prettyPrint=false HTTP/11\" 200 None\n",
            "2024-06-21 16:54:10,954 - embeddings.store_embeddings - INFO - Delete tablecolumn_details_embeddings row: breedr and table_name= kill_information and column_name= kill_date \n",
            "2024-06-21 16:54:13,201 - urllib3.connectionpool - DEBUG - https://bigquery.googleapis.com:443 \"POST /bigquery/v2/projects/uk-bh-experiments-argolis/queries?prettyPrint=false HTTP/11\" 200 None\n",
            "2024-06-21 16:54:13,206 - embeddings.store_embeddings - INFO - Delete tablecolumn_details_embeddings row: breedr and table_name= kill_information and column_name= kill_number \n",
            "2024-06-21 16:54:22,983 - urllib3.connectionpool - DEBUG - https://bigquery.googleapis.com:443 \"POST /bigquery/v2/projects/uk-bh-experiments-argolis/queries?prettyPrint=false HTTP/11\" 200 None\n",
            "2024-06-21 16:54:23,187 - urllib3.connectionpool - DEBUG - https://bigquery.googleapis.com:443 \"GET /bigquery/v2/projects/uk-bh-experiments-argolis/jobs/job_tvNXZG42tc-Ghn2gD3UyO4BvkC6d?projection=full&location=us-central1&prettyPrint=false HTTP/11\" 200 None\n",
            "2024-06-21 16:54:24,873 - urllib3.connectionpool - DEBUG - https://bigquery.googleapis.com:443 \"GET /bigquery/v2/projects/uk-bh-experiments-argolis/queries/job_tvNXZG42tc-Ghn2gD3UyO4BvkC6d?maxResults=0&location=us-central1&prettyPrint=false HTTP/11\" 200 None\n",
            "2024-06-21 16:54:25,181 - urllib3.connectionpool - DEBUG - https://bigquery.googleapis.com:443 \"GET /bigquery/v2/projects/uk-bh-experiments-argolis/jobs/job_tvNXZG42tc-Ghn2gD3UyO4BvkC6d?projection=full&location=us-central1&prettyPrint=false HTTP/11\" 200 None\n",
            "2024-06-21 16:54:25,186 - embeddings.store_embeddings - INFO - Delete tablecolumn_details_embeddings row: breedr and table_name= kill_information and column_name= killsheet_upload_id \n",
            "2024-06-21 16:54:27,229 - urllib3.connectionpool - DEBUG - https://bigquery.googleapis.com:443 \"POST /bigquery/v2/projects/uk-bh-experiments-argolis/queries?prettyPrint=false HTTP/11\" 200 None\n",
            "2024-06-21 16:54:27,234 - embeddings.store_embeddings - INFO - Delete tablecolumn_details_embeddings row: breedr and table_name= kill_information and column_name= lot_number \n",
            "2024-06-21 16:54:29,278 - urllib3.connectionpool - DEBUG - https://bigquery.googleapis.com:443 \"POST /bigquery/v2/projects/uk-bh-experiments-argolis/queries?prettyPrint=false HTTP/11\" 200 None\n",
            "2024-06-21 16:54:29,284 - embeddings.store_embeddings - INFO - Delete tablecolumn_details_embeddings row: breedr and table_name= kill_information and column_name= note \n",
            "2024-06-21 16:54:31,325 - urllib3.connectionpool - DEBUG - https://bigquery.googleapis.com:443 \"POST /bigquery/v2/projects/uk-bh-experiments-argolis/queries?prettyPrint=false HTTP/11\" 200 None\n",
            "2024-06-21 16:54:31,331 - embeddings.store_embeddings - INFO - Delete tablecolumn_details_embeddings row: breedr and table_name= kill_information and column_name= price \n",
            "2024-06-21 16:54:33,475 - urllib3.connectionpool - DEBUG - https://bigquery.googleapis.com:443 \"POST /bigquery/v2/projects/uk-bh-experiments-argolis/queries?prettyPrint=false HTTP/11\" 200 None\n",
            "2024-06-21 16:54:33,481 - embeddings.store_embeddings - INFO - Delete tablecolumn_details_embeddings row: breedr and table_name= kill_information and column_name= side_1_weight \n",
            "2024-06-21 16:54:35,727 - urllib3.connectionpool - DEBUG - https://bigquery.googleapis.com:443 \"POST /bigquery/v2/projects/uk-bh-experiments-argolis/queries?prettyPrint=false HTTP/11\" 200 None\n",
            "2024-06-21 16:54:35,733 - embeddings.store_embeddings - INFO - Delete tablecolumn_details_embeddings row: breedr and table_name= kill_information and column_name= side_2_weight \n",
            "2024-06-21 16:54:37,806 - urllib3.connectionpool - DEBUG - https://bigquery.googleapis.com:443 \"POST /bigquery/v2/projects/uk-bh-experiments-argolis/queries?prettyPrint=false HTTP/11\" 200 None\n",
            "2024-06-21 16:54:37,813 - embeddings.store_embeddings - INFO - Delete tablecolumn_details_embeddings row: breedr and table_name= kill_information and column_name= value \n",
            "2024-06-21 16:54:40,058 - urllib3.connectionpool - DEBUG - https://bigquery.googleapis.com:443 \"POST /bigquery/v2/projects/uk-bh-experiments-argolis/queries?prettyPrint=false HTTP/11\" 200 None\n",
            "2024-06-21 16:54:40,447 - urllib3.connectionpool - DEBUG - https://bigquery.googleapis.com:443 \"GET /bigquery/v2/projects/uk-bh-experiments-argolis/datasets/opendataqna/tables/tablecolumn_details_embeddings?prettyPrint=false HTTP/11\" 200 None\n",
            "2024-06-21 16:54:42,178 - urllib3.connectionpool - DEBUG - https://bigquery.googleapis.com:443 \"POST /upload/bigquery/v2/projects/uk-bh-experiments-argolis/jobs?uploadType=multipart HTTP/11\" 200 1977\n",
            "2024-06-21 16:54:42,183 - embeddings.store_embeddings - INFO - Storing column embeddings to BQ uk-bh-experiments-argolis.opendataqna.tablecolumn_details_embeddings\n",
            "2024-06-21 16:54:42,589 - urllib3.connectionpool - DEBUG - https://bigquery.googleapis.com:443 \"POST /bigquery/v2/projects/uk-bh-experiments-argolis/queries?prettyPrint=false HTTP/11\" 200 None\n",
            "Table and Column embeddings are saved to vector store\n"
          ]
        }
      ],
      "source": [
        "from env_setup import store_embeddings\n",
        "\n",
        "# Store table/column embeddings (asynchronous)\n",
        "await(store_embeddings(table_schema_embeddings, col_schema_embeddings)) \n"
      ]
    },
    {
      "cell_type": "markdown",
      "metadata": {},
      "source": [
        "### 🗄️ **Load Known Good SQL into Vector Store**\n",
        "Known Good Queries are used to create query cache for Few shot examples. Creating a query cache is highly recommended for best outcomes! \n",
        "\n",
        "The following cell will load the Natural Language Question and Known Good SQL pairs into our Vector Store. There pairs are loaded from `known_good_sql.csv` file inside scripts folder. If you have your own Question-SQL examples, curate them in .csv file before running the cell below. \n",
        "\n",
        "If no Known Good Queries are available at this time to create query cache, you can use [3_LoadKnownGoodSQL.ipynb](3_LoadKnownGoodSQL.ipynb) to load them later. \n",
        "\n"
      ]
    },
    {
      "cell_type": "markdown",
      "metadata": {},
      "source": [
        "#### Format of the Known Good SQL File (known_good_sql.csv)\n",
        "\n",
        "prompt | sql | database_name [3 columns]\n",
        "\n",
        "prompt ==> User Question \n",
        "\n",
        "sql ==> SQL for the user question (Note that the sql should enclosed in quotes and only in single line. Please remove the line  break)\n",
        "\n",
        "database_name ==>This name should exactly  match the SCHEMA   NAME for Postgres Source or BQ_DATASET_NAME"
      ]
    },
    {
      "cell_type": "code",
      "execution_count": 9,
      "metadata": {},
      "outputs": [
        {
          "name": "stdout",
          "output_type": "stream",
          "text": [
            "Creating kgq table in vector store.\n",
            "2024-06-21 16:54:42,626 - google.auth._default - DEBUG - Checking None for explicit credentials as part of auth process...\n",
            "2024-06-21 16:54:42,629 - google.auth._default - DEBUG - Checking Cloud SDK credentials as part of auth process...\n",
            "2024-06-21 16:54:43,070 - urllib3.util.retry - DEBUG - Converted retries value: 3 -> Retry(total=3, connect=None, read=None, redirect=None, status=None)\n",
            "2024-06-21 16:54:43,070 - google.auth.transport.requests - DEBUG - Making request: POST https://oauth2.googleapis.com/token\n",
            "2024-06-21 16:54:43,072 - urllib3.connectionpool - DEBUG - Starting new HTTPS connection (1): oauth2.googleapis.com:443\n",
            "2024-06-21 16:54:43,244 - urllib3.connectionpool - DEBUG - https://oauth2.googleapis.com:443 \"POST /token HTTP/11\" 200 None\n",
            "2024-06-21 16:54:43,246 - urllib3.connectionpool - DEBUG - Starting new HTTPS connection (1): bigquery.googleapis.com:443\n",
            "2024-06-21 16:54:44,022 - urllib3.connectionpool - DEBUG - https://bigquery.googleapis.com:443 \"POST /bigquery/v2/projects/uk-bh-experiments-argolis/queries?prettyPrint=false HTTP/11\" 200 None\n",
            "Reading contents of known_good_sql.csv\n",
            "Known Good SQL Found at Path :: /home/brendanhills/dev/applied-ai-engineering-samples-orig/scripts/known_good_sql.csv\n",
            "Storing kgq embeddings in vector store table.\n",
            "2024-06-21 16:54:45,283 - google.auth._default - DEBUG - Checking None for explicit credentials as part of auth process...\n",
            "2024-06-21 16:54:45,283 - google.auth._default - DEBUG - Checking Cloud SDK credentials as part of auth process...\n",
            "2024-06-21 16:54:50,663 - urllib3.util.retry - DEBUG - Converted retries value: 3 -> Retry(total=3, connect=None, read=None, redirect=None, status=None)\n",
            "2024-06-21 16:54:50,666 - google.auth.transport.requests - DEBUG - Making request: POST https://oauth2.googleapis.com/token\n",
            "2024-06-21 16:54:50,672 - urllib3.connectionpool - DEBUG - Starting new HTTPS connection (1): oauth2.googleapis.com:443\n",
            "2024-06-21 16:54:50,791 - urllib3.connectionpool - DEBUG - https://oauth2.googleapis.com:443 \"POST /token HTTP/11\" 200 None\n",
            "2024-06-21 16:54:50,798 - urllib3.connectionpool - DEBUG - Starting new HTTPS connection (1): bigquery.googleapis.com:443\n",
            "2024-06-21 16:54:51,291 - urllib3.connectionpool - DEBUG - https://bigquery.googleapis.com:443 \"POST /bigquery/v2/projects/uk-bh-experiments-argolis/queries?prettyPrint=false HTTP/11\" 200 None\n",
            "2024-06-21 16:54:53,443 - urllib3.connectionpool - DEBUG - https://bigquery.googleapis.com:443 \"POST /bigquery/v2/projects/uk-bh-experiments-argolis/queries?prettyPrint=false HTTP/11\" 200 None\n",
            "2024-06-21 16:54:55,287 - urllib3.connectionpool - DEBUG - https://bigquery.googleapis.com:443 \"POST /bigquery/v2/projects/uk-bh-experiments-argolis/queries?prettyPrint=false HTTP/11\" 200 None\n",
            "2024-06-21 16:54:57,959 - urllib3.connectionpool - DEBUG - https://bigquery.googleapis.com:443 \"POST /bigquery/v2/projects/uk-bh-experiments-argolis/queries?prettyPrint=false HTTP/11\" 200 None\n",
            "2024-06-21 16:54:59,691 - urllib3.connectionpool - DEBUG - https://bigquery.googleapis.com:443 \"POST /bigquery/v2/projects/uk-bh-experiments-argolis/queries?prettyPrint=false HTTP/11\" 200 None\n",
            "2024-06-21 16:55:01,634 - urllib3.connectionpool - DEBUG - https://bigquery.googleapis.com:443 \"POST /bigquery/v2/projects/uk-bh-experiments-argolis/queries?prettyPrint=false HTTP/11\" 200 None\n",
            "2024-06-21 16:55:03,274 - urllib3.connectionpool - DEBUG - https://bigquery.googleapis.com:443 \"POST /bigquery/v2/projects/uk-bh-experiments-argolis/queries?prettyPrint=false HTTP/11\" 200 None\n",
            "2024-06-21 16:55:05,426 - urllib3.connectionpool - DEBUG - https://bigquery.googleapis.com:443 \"POST /bigquery/v2/projects/uk-bh-experiments-argolis/queries?prettyPrint=false HTTP/11\" 200 None\n",
            "2024-06-21 16:55:07,166 - urllib3.connectionpool - DEBUG - https://bigquery.googleapis.com:443 \"POST /bigquery/v2/projects/uk-bh-experiments-argolis/queries?prettyPrint=false HTTP/11\" 200 None\n"
          ]
        }
      ],
      "source": [
        "from env_setup import create_kgq_sql_table, store_kgq_sql_embeddings\n",
        "\n",
        "# Create table for known good queries (if enabled)\n",
        "await(create_kgq_sql_table()) \n",
        "\n",
        "# Store known good query embeddings (if enabled)\n",
        "await(store_kgq_sql_embeddings())  \n"
      ]
    },
    {
      "cell_type": "markdown",
      "metadata": {},
      "source": [
        "### 🥁 If all the above steps are executed suucessfully, the following should be set up:\n",
        "\n",
        "* GCP project and all the required IAM permissions\n",
        "\n",
        "* Environment to run the solution\n",
        "\n",
        "* Data source and Vector store for the solution"
      ]
    },
    {
      "cell_type": "markdown",
      "metadata": {},
      "source": [
        "__________________________________________________________________________________________________________________"
      ]
    }
  ],
  "metadata": {
    "colab": {
      "provenance": []
    },
    "kernelspec": {
      "display_name": "openqna-venv",
      "language": "python",
      "name": "openqna-venv"
    },
    "language_info": {
      "codemirror_mode": {
        "name": "ipython",
        "version": 3
      },
      "file_extension": ".py",
      "mimetype": "text/x-python",
      "name": "python",
      "nbconvert_exporter": "python",
      "pygments_lexer": "ipython3",
      "version": "3.11.2"
    }
  },
  "nbformat": 4,
  "nbformat_minor": 0
}
