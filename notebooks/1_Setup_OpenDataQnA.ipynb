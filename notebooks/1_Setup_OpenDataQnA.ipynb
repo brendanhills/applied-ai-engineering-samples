{
 "cells": [
  {
   "cell_type": "markdown",
   "metadata": {},
   "source": [
    "<div style=\"display: flex; align-items: left;\">\n",
    "    <a href=\"https://sites.google.com/corp/google.com/genai-solutions/home?authuser=0\">\n",
    "        <img src=\"https://storage.googleapis.com/miscfilespublic/Linkedin%20Banner%20%E2%80%93%202.png\" style=\"margin-right\">\n",
    "    </a>\n",
    "</div>"
   ]
  },
  {
   "cell_type": "markdown",
   "metadata": {
    "id": "DRyGcAepAPJ5"
   },
   "source": [
    "\n",
    "<h1 align=\"center\">Open Data QnA - Chat with your SQL Database</h1> \n",
    "\n",
    "---\n",
    "\n",
    "This notebook first walks through the Vector Store Setup needed for running the Open Data QnA application. \n",
    "\n",
    "Currently supported Source DBs are: \n",
    "- PostgreSQL on Google Cloud SQL \n",
    "- BigQuery\n",
    "\n",
    "Furthermore, the following vector stores are supported \n",
    "- pgvector on PostgreSQL \n",
    "- BigQuery vector\n",
    "\n",
    "\n",
    "The setup part covers the following steps: \n",
    "> 1. Configuration: Intial GCP project, IAM permissions, Environment  and Databases setup including logging on Bigquery for analytics\n",
    "\n",
    "> 2. Creation of Table, Column and Known Good Query Embeddings in the Vector Store  for Retreival Augmented Generation(RAG)\n",
    "\n",
    "\n",
    "Afterwards, you will be able to run the Open Data QnA Pipeline to generate SQL queries and answer questions over your data source. \n",
    "\n",
    "The pipeline run covers the following steps: \n",
    "\n",
    "> 1. Take user question and generate sql in the dialect corresponding to data source\n",
    "\n",
    "> 2. Execute the sql query and retreive the data\n",
    "\n",
    "> 3. Generate natural language respose and charts to display\n",
    "\n",
    "> 4. Clean Up resources\n",
    "\n"
   ]
  },
  {
   "cell_type": "markdown",
   "metadata": {
    "id": "jsWGZW_fUJjN"
   },
   "source": [
    "### 📒 Using this interactive notebook\n",
    "\n",
    "If you have not used this IDE with jupyter notebooks it will ask for installing Python + Jupyter extensions. Please go ahead install them\n",
    "\n",
    "Click the **run** icons ▶️  of each cell within this notebook.\n",
    "\n",
    "> 💡 Alternatively, you can run the currently selected cell with `Ctrl + Enter` (or `⌘ + Enter` on a Mac).\n",
    "\n",
    "> ⚠️ **To avoid any errors**, wait for each section to finish in their order before clicking the next “run” icon.\n",
    "\n",
    "This sample must be connected to a **Google Cloud project**, but nothing else is needed other than your Google Cloud project.\n",
    "\n",
    "You can use an existing project. Alternatively, you can create a new Cloud project [with cloud credits for free.](https://cloud.google.com/free/docs/gcp-free-tier)"
   ]
  },
  {
   "cell_type": "markdown",
   "metadata": {
    "id": "RicDCkdI-hmp"
   },
   "source": [
    "# 🚧 **0. Prerequisites**\n",
    "\n",
    "Make sure that Google Cloud CLI is installed before moving to the next cell! You can refer to the link below for guidance\n",
    "\n",
    "Installation Guide: https://cloud.google.com/sdk/docs/install"
   ]
  },
  {
   "cell_type": "markdown",
   "metadata": {},
   "source": [
    "### Set Python Module Path to Root"
   ]
  },
  {
   "cell_type": "code",
   "execution_count": null,
   "metadata": {},
   "outputs": [],
   "source": [
    "import os\n",
    "import sys\n",
    "\n",
    "module_path = os.path.abspath(os.path.join('..'))\n",
    "sys.path.append(module_path)\n",
    "\n"
   ]
  },
  {
   "cell_type": "code",
   "execution_count": null,
   "metadata": {},
   "outputs": [],
   "source": [
    "%load_ext autoreload\n",
    "%autoreload 2\n",
    "%aimport\n",
    "\n",
    "import logging\n",
    "format_string = '%(asctime)s - %(name)s - %(levelname)s - %(message)s'\n",
    "logger = logging.getLogger()\n",
    "fhandler = logging.FileHandler(filename='mylog.log', mode='a')\n",
    "formatter = logging.Formatter(format_string)\n",
    "fhandler.setFormatter(formatter)\n",
    "#logger.addHandler(fhandler)\n",
    "logging.basicConfig(format=format_string,\n",
    "                     level=logging.INFO, stream=sys.stdout)\n",
    "logger.setLevel(logging.INFO)"
   ]
  },
  {
   "cell_type": "markdown",
   "metadata": {
    "id": "p4W6FPnrYEE8"
   },
   "source": [
    "### 🔗 **Connect Your Google Cloud Project**\n",
    "Time to connect your Google Cloud Project to this notebook. "
   ]
  },
  {
   "cell_type": "code",
   "execution_count": null,
   "metadata": {},
   "outputs": [],
   "source": [
    "#@markdown Please fill in the value below with your GCP project ID and then run the cell.\n",
    "PROJECT_ID = \"uk-bh-experiments-argolis\"\n",
    "\n",
    "# Quick input validations.\n",
    "assert PROJECT_ID, \"⚠️ Please provide your Google Cloud Project ID\"\n",
    "\n",
    "# Configure gcloud.\n",
    "!gcloud config set project {PROJECT_ID}\n",
    "print(f'Project has been set to {PROJECT_ID}')\n",
    "\n",
    "os.environ['GOOGLE_CLOUD_QUOTA_PROJECT']=PROJECT_ID\n",
    "os.environ['GOOGLE_CLOUD_PROJECT']=PROJECT_ID"
   ]
  },
  {
   "cell_type": "markdown",
   "metadata": {},
   "source": [
    "### 🤔 **Choose Data Source and Vector Store**"
   ]
  },
  {
   "cell_type": "markdown",
   "metadata": {},
   "source": [
    "Fill out the parameters and configuration settings below. \n",
    "These are the parameters for connecting to the source databases and setting configurations for the vector store tables to be created. \n",
    "Additionally, you can specify whether you have and want to use known-good-queries for the pipeline run and whether you want to enable logging.\n",
    "\n",
    "**Known good queries:** if you have known working user question <-> SQL query pairs, you can put them into the file `scripts/known_good_sql.csv`. This will be used as a caching layer and for in-context learning: If an exact match of the user question is found in the vector store, the pipeline will skip SQL Generation and output the cached SQL query. If the similarity score is between 90-100%, the known good queries will be used as few-shot examples by the SQL Generator Agent. \n",
    "\n",
    "**Logging:** you can enable logging. If enabled, a dataset is created in Big Query in your project, which will store the logging table and save information from the pipeline run in the logging table. This is especially helpful for debugging."
   ]
  },
  {
   "cell_type": "code",
   "execution_count": null,
   "metadata": {},
   "outputs": [],
   "source": [
    "#[CONFIG]\n",
    "embedding_model = 'vertex' # Options: 'vertex' or 'vertex-lang'\n",
    "vector_embedding_model = \"text-embedding-004\"\n",
    "description_model = 'gemini-1.5-pro-001' # 'gemini-1.5-pro-001', 'gemini-1.5-pro', 'text-bison-32k'\n",
    "data_source = 'bigquery' #  Options: 'bigquery' and 'cloudsql-pg' \n",
    "vector_store = 'bigquery-vector' # Options: 'bigquery-vector', 'cloudsql-pgvector'\n",
    "logging = True # True or False \n",
    "kgq_examples = True # True or False \n",
    "\n",
    "#[GCP]\n",
    "project_id = PROJECT_ID\n",
    "\n",
    "#[PGCLOUDSQL]\n",
    "# If you want to use PG as source, fill out the values below\n",
    "pg_region = ''\n",
    "pg_instance = ''\n",
    "pg_database = ''\n",
    "pg_user = ''\n",
    "pg_password = ''\n",
    "pg_schema = ''\n",
    "\n",
    "#[BIGQUERY]\n",
    "# If you want to use BQ as source, fill out the values below\n",
    "bq_dataset_region = 'us-east11'\n",
    "bq_dataset_name = 'breedr'\n",
    "\n",
    "# Name for the BQ dataset created for bigquery-vector and/or logging\n",
    "bq_opendataqna_dataset_name = 'opendataqna'\n",
    "bq_log_table_name = 'audit_log_table' \n",
    "bq_table_list = None # [\"animal_breeds\", \"activity_types\", \"alert_type\", \"activity_types\"]  # either None or a list of table names in format ['reviews', 'ratings']\n",
    "\n",
    "#Decode Region and Userdatabase based on source\n",
    "if data_source == 'bigquery': dataset_region = bq_dataset_region; user_database=bq_dataset_name \n",
    "elif data_source == 'cloudsql-pg': dataset_region = pg_region; user_database=pg_schema"
   ]
  },
  {
   "cell_type": "markdown",
   "metadata": {},
   "source": [
    "Quick input verifications below:"
   ]
  },
  {
   "cell_type": "code",
   "execution_count": null,
   "metadata": {},
   "outputs": [],
   "source": [
    "\n",
    "# Input verification - Source\n",
    "assert data_source in {'bigquery', 'cloudsql-pg'}, \"⚠️ Invalid DATA_SOURCE. Must be 'bigquery' or 'cloudsql-pg'\"\n",
    "\n",
    "# Input verification - Vector Store\n",
    "assert vector_store in {'bigquery-vector', 'cloudsql-pgvector'}, \"⚠️ Invalid VECTOR_STORE. Must be 'bigquery-vector' or 'cloudsql-pgvector'\"\n",
    "\n",
    "if logging: \n",
    "    assert bq_log_table_name, \"⚠️ Please provide a name for your log table if you want to use logging\"\n",
    "\n",
    "if data_source == 'bigquery':\n",
    "    assert bq_dataset_region, \"⚠️ Please provide the Data Set Region\"\n",
    "    assert bq_dataset_name, \"⚠️ Please provide the name of the dataset on Bigquery\"\n",
    "\n",
    "elif data_source == 'cloudsql-pg':\n",
    "    assert pg_region, \"⚠️ Please provide Region of the Cloud SQL Instance\"\n",
    "    assert pg_instance, \"⚠️ Please provide the name of the Cloud SQL Instance\"\n",
    "    assert pg_database, \"⚠️ Please provide the name of the PostgreSQL Database on the Cloud SQL Instance\"\n",
    "    assert pg_user, \"⚠️ Please provide a username for the Cloud SQL Instance\"\n",
    "    assert pg_password, \"⚠️ Please provide the Password for the PG_USER\"\n"
   ]
  },
  {
   "cell_type": "markdown",
   "metadata": {},
   "source": [
    "### 💾 **Save Configuration to File** \n",
    "Save the configurations set in this notebook to  `config.ini`. The parameters from this file are used in notebooks and in various modeules in the repo"
   ]
  },
  {
   "cell_type": "code",
   "execution_count": null,
   "metadata": {},
   "outputs": [],
   "source": [
    "from scripts import save_config\n",
    "\n",
    "save_config(embedding_model, vector_embedding_model, description_model, data_source, vector_store, logging, kgq_examples, PROJECT_ID,\n",
    "            pg_region, pg_instance, pg_database, pg_user, pg_password, pg_schema, \n",
    "            bq_dataset_region, bq_dataset_name, \n",
    "            bq_opendataqna_dataset_name, bq_log_table_name, bq_table_list)"
   ]
  },
  {
   "cell_type": "markdown",
   "metadata": {},
   "source": [
    "##  **1.2. Create Embeddings in Vector Store for RAG** "
   ]
  },
  {
   "cell_type": "markdown",
   "metadata": {},
   "source": [
    "### 🖋️ **Create Table and Column Embeddings**\n",
    "\n",
    "In this step, table and column metadata is retreived from the data source and embeddings are generated for both"
   ]
  },
  {
   "cell_type": "code",
   "execution_count": null,
   "metadata": {},
   "outputs": [],
   "source": [
    "from env_setup import get_embeddings\n",
    "\n",
    "# Generate embeddings for tables and columns\n",
    "table_schema_embeddings, col_schema_embeddings = get_embeddings()  \n",
    "\n"
   ]
  },
  {
   "cell_type": "code",
   "execution_count": null,
   "metadata": {},
   "outputs": [],
   "source": [
    "table_schema_embeddings.describe()\n"
   ]
  },
  {
   "cell_type": "code",
   "execution_count": null,
   "metadata": {},
   "outputs": [],
   "source": [
    "col_schema_embeddings.describe()"
   ]
  },
  {
   "cell_type": "markdown",
   "metadata": {},
   "source": [
    "### 💾 **Save the Table and Column Embeddings in the Vector Store**\n",
    "The table and column embeddings created in the above step are save to the Vector Store chosen"
   ]
  },
  {
   "cell_type": "code",
   "execution_count": null,
   "metadata": {},
   "outputs": [],
   "source": [
    "from env_setup import store_embeddings\n",
    "\n",
    "\n",
    "# Store table/column embeddings (asynchronous)\n",
    "await(store_embeddings(table_schema_embeddings, col_schema_embeddings)) \n"
   ]
  },
  {
   "cell_type": "markdown",
   "metadata": {},
   "source": [
    "### 🗄️ **Load Known Good SQL into Vector Store**\n",
    "Known Good Queries are used to create query cache for Few shot examples. Creating a query cache is highly recommended for best outcomes! \n",
    "\n",
    "The following cell will load the Natural Language Question and Known Good SQL pairs into our Vector Store. There pairs are loaded from `known_good_sql.csv` file inside scripts folder. If you have your own Question-SQL examples, curate them in .csv file before running the cell below. \n",
    "\n",
    "If no Known Good Queries are available at this time to create query cache, you can use [3_LoadKnownGoodSQL.ipynb](3_LoadKnownGoodSQL.ipynb) to load them later. \n",
    "\n"
   ]
  },
  {
   "cell_type": "markdown",
   "metadata": {},
   "source": [
    "#### Format of the Known Good SQL File (known_good_sql.csv)\n",
    "\n",
    "prompt | sql | database_name [3 columns]\n",
    "\n",
    "prompt ==> User Question \n",
    "\n",
    "sql ==> SQL for the user question (Note that the sql should enclosed in quotes and only in single line. Please remove the line  break)\n",
    "\n",
    "database_name ==>This name should exactly  match the SCHEMA   NAME for Postgres Source or BQ_DATASET_NAME"
   ]
  },
  {
   "cell_type": "code",
   "execution_count": null,
   "metadata": {},
   "outputs": [],
   "source": [
    "from env_setup import create_kgq_sql_table, store_kgq_sql_embeddings\n",
    "\n",
    "# Create table for known good queries (if enabled)\n",
    "await(create_kgq_sql_table()) \n",
    "\n",
    "# Store known good query embeddings (if enabled)\n",
    "await(store_kgq_sql_embeddings())  \n"
   ]
  },
  {
   "cell_type": "markdown",
   "metadata": {},
   "source": [
    "### 🥁 If all the above steps are executed successfully, the following should be set up:\n",
    "\n",
    "* GCP project and all the required IAM permissions\n",
    "\n",
    "* Environment to run the solution\n",
    "\n",
    "* Data source and Vector store for the solution"
   ]
  },
  {
   "cell_type": "markdown",
   "metadata": {},
   "source": [
    "__________________________________________________________________________________________________________________"
   ]
  }
 ],
 "metadata": {
  "colab": {
   "provenance": []
  },
  "environment": {
   "kernel": "opendataqna-venv",
   "name": "workbench-notebooks.m122",
   "type": "gcloud",
   "uri": "us-docker.pkg.dev/deeplearning-platform-release/gcr.io/workbench-notebooks:m122"
  },
  "kernelspec": {
   "display_name": "opendataqna-venv (Local)",
   "language": "python",
   "name": "opendataqna-venv"
  },
  "language_info": {
   "codemirror_mode": {
    "name": "ipython",
    "version": 3
   },
   "file_extension": ".py",
   "mimetype": "text/x-python",
   "name": "python",
   "nbconvert_exporter": "python",
   "pygments_lexer": "ipython3",
   "version": "3.10.14"
  }
 },
 "nbformat": 4,
 "nbformat_minor": 4
}
