{
 "cells": [
  {
   "cell_type": "code",
   "execution_count": null,
   "id": "43e0ff3c-b568-4845-b93d-88543c4e1998",
   "metadata": {
    "tags": []
   },
   "outputs": [],
   "source": [
    "import os\n",
    "import sys\n",
    "\n",
    "module_path = os.path.abspath(os.path.join('..'))\n",
    "sys.path.append(module_path)"
   ]
  },
  {
   "cell_type": "code",
   "execution_count": null,
   "id": "73ef5e57-1f30-4439-be3c-cb1ac2fc5310",
   "metadata": {
    "tags": []
   },
   "outputs": [],
   "source": [
    "PROJECT_ID = \"uk-bh-experiments-argolis\"\n",
    "\n",
    "\n",
    "#[CONFIG]\n",
    "embedding_model = 'vertex' # Options: 'vertex' or 'vertex-lang'\n",
    "description_model = 'gemini-1.0-pro' # 'gemini-1.0-pro', 'gemini-1.5-pro', 'text-bison-32k'\n",
    "data_source = 'bigquery' #  Options: 'bigquery' and 'cloudsql-pg' \n",
    "vector_store = 'bigquery-vector' # Options: 'bigquery-vector', 'cloudsql-pgvector'\n",
    "logging = True # True or False \n",
    "kgq_examples = True # True or False \n",
    "\n",
    "#[GCP]\n",
    "project_id = PROJECT_ID\n",
    "\n",
    "#[PGCLOUDSQL]\n",
    "# If you want to use PG as source, fill out the values below\n",
    "pg_region = ''\n",
    "pg_instance = ''\n",
    "pg_database = ''\n",
    "pg_user = ''\n",
    "pg_password = ''\n",
    "pg_schema = ''\n",
    "\n",
    "#[BIGQUERY]\n",
    "# If you want to use BQ as source, fill out the values below\n",
    "bq_dataset_region = 'us-east1'\n",
    "bq_dataset_name = 'breedr'\n",
    "\n",
    "# Name for the BQ dataset created for bigquery-vector and/or logging\n",
    "bq_opendataqna_dataset_name = 'opendataqna'\n",
    "bq_log_table_name = 'audit_log_table' \n",
    "bq_table_list = None #['animals', 'activities', 'activity_types'] #None # either None or a list of table names in format ['reviews', 'ratings']\n",
    "\n",
    "#Decode Region and Userdatabase based on source\n",
    "dataset_region = bq_dataset_region\n",
    "user_database=bq_dataset_name "
   ]
  },
  {
   "cell_type": "code",
   "execution_count": null,
   "id": "a2faa8ca-ef20-483d-8def-289af74d14db",
   "metadata": {
    "tags": []
   },
   "outputs": [],
   "source": [
    "\n",
    "# Input verification - Source\n",
    "assert data_source in {'bigquery', 'cloudsql-pg'}, \"⚠️ Invalid DATA_SOURCE. Must be 'bigquery' or 'cloudsql-pg'\"\n",
    "\n",
    "# Input verification - Vector Store\n",
    "assert vector_store in {'bigquery-vector', 'cloudsql-pgvector'}, \"⚠️ Invalid VECTOR_STORE. Must be 'bigquery-vector' or 'cloudsql-pgvector'\"\n",
    "\n",
    "if logging: \n",
    "    assert bq_log_table_name, \"⚠️ Please provide a name for your log table if you want to use logging\"\n",
    "\n",
    "if data_source == 'bigquery':\n",
    "    assert bq_dataset_region, \"⚠️ Please provide the Data Set Region\"\n",
    "    assert bq_dataset_name, \"⚠️ Please provide the name of the dataset on Bigquery\"\n",
    "\n",
    "elif data_source == 'cloudsql-pg':\n",
    "    assert pg_region, \"⚠️ Please provide Region of the Cloud SQL Instance\"\n",
    "    assert pg_instance, \"⚠️ Please provide the name of the Cloud SQL Instance\"\n",
    "    assert pg_database, \"⚠️ Please provide the name of the PostgreSQL Database on the Cloud SQL Instance\"\n",
    "    assert pg_user, \"⚠️ Please provide a username for the Cloud SQL Instance\"\n",
    "    assert pg_password, \"⚠️ Please provide the Password for the PG_USER\""
   ]
  },
  {
   "cell_type": "code",
   "execution_count": null,
   "id": "1b05d3ab-bec8-43a1-815a-c39d04b51fc2",
   "metadata": {
    "tags": []
   },
   "outputs": [],
   "source": [
    "from scripts import save_config\n",
    "\n",
    "save_config(embedding_model, description_model, data_source, vector_store, logging, kgq_examples, PROJECT_ID,\n",
    "            pg_region, pg_instance, pg_database, pg_user, pg_password, pg_schema, \n",
    "            bq_dataset_region, bq_dataset_name, \n",
    "            bq_opendataqna_dataset_name, bq_log_table_name, bq_table_list)"
   ]
  },
  {
   "cell_type": "code",
   "execution_count": null,
   "id": "bdf4c938-4590-4be6-b948-263e7a87e6ff",
   "metadata": {
    "tags": []
   },
   "outputs": [],
   "source": [
    "from env_setup import create_vector_store\n",
    "# Setup vector store for embeddings\n",
    "create_vector_store()  \n"
   ]
  },
  {
   "cell_type": "code",
   "execution_count": 6,
   "id": "c80465a3-e1af-4231-bb4f-73ea71f2d485",
   "metadata": {
    "tags": []
   },
   "outputs": [
    {
     "name": "stdout",
     "output_type": "stream",
     "text": [
      "Generating embeddings from source db schemas\n",
      "\n",
      "LLM generated 45 Table Descriptions\n"
     ]
    },
    {
     "ename": "ServiceUnavailable",
     "evalue": "503 recvmsg:Connection reset by peer",
     "output_type": "error",
     "traceback": [
      "\u001b[0;31m---------------------------------------------------------------------------\u001b[0m",
      "\u001b[0;31m_InactiveRpcError\u001b[0m                         Traceback (most recent call last)",
      "File \u001b[0;32m~/.cache/pypoetry/virtualenvs/talktodata-V8t31u4d-py3.11/lib/python3.11/site-packages/google/api_core/grpc_helpers.py:76\u001b[0m, in \u001b[0;36m_wrap_unary_errors.<locals>.error_remapped_callable\u001b[0;34m(*args, **kwargs)\u001b[0m\n\u001b[1;32m     75\u001b[0m \u001b[38;5;28;01mtry\u001b[39;00m:\n\u001b[0;32m---> 76\u001b[0m     \u001b[38;5;28;01mreturn\u001b[39;00m \u001b[43mcallable_\u001b[49m\u001b[43m(\u001b[49m\u001b[38;5;241;43m*\u001b[39;49m\u001b[43margs\u001b[49m\u001b[43m,\u001b[49m\u001b[43m \u001b[49m\u001b[38;5;241;43m*\u001b[39;49m\u001b[38;5;241;43m*\u001b[39;49m\u001b[43mkwargs\u001b[49m\u001b[43m)\u001b[49m\n\u001b[1;32m     77\u001b[0m \u001b[38;5;28;01mexcept\u001b[39;00m grpc\u001b[38;5;241m.\u001b[39mRpcError \u001b[38;5;28;01mas\u001b[39;00m exc:\n",
      "File \u001b[0;32m~/.cache/pypoetry/virtualenvs/talktodata-V8t31u4d-py3.11/lib/python3.11/site-packages/grpc/_channel.py:1181\u001b[0m, in \u001b[0;36m_UnaryUnaryMultiCallable.__call__\u001b[0;34m(self, request, timeout, metadata, credentials, wait_for_ready, compression)\u001b[0m\n\u001b[1;32m   1175\u001b[0m (\n\u001b[1;32m   1176\u001b[0m     state,\n\u001b[1;32m   1177\u001b[0m     call,\n\u001b[1;32m   1178\u001b[0m ) \u001b[38;5;241m=\u001b[39m \u001b[38;5;28mself\u001b[39m\u001b[38;5;241m.\u001b[39m_blocking(\n\u001b[1;32m   1179\u001b[0m     request, timeout, metadata, credentials, wait_for_ready, compression\n\u001b[1;32m   1180\u001b[0m )\n\u001b[0;32m-> 1181\u001b[0m \u001b[38;5;28;01mreturn\u001b[39;00m \u001b[43m_end_unary_response_blocking\u001b[49m\u001b[43m(\u001b[49m\u001b[43mstate\u001b[49m\u001b[43m,\u001b[49m\u001b[43m \u001b[49m\u001b[43mcall\u001b[49m\u001b[43m,\u001b[49m\u001b[43m \u001b[49m\u001b[38;5;28;43;01mFalse\u001b[39;49;00m\u001b[43m,\u001b[49m\u001b[43m \u001b[49m\u001b[38;5;28;43;01mNone\u001b[39;49;00m\u001b[43m)\u001b[49m\n",
      "File \u001b[0;32m~/.cache/pypoetry/virtualenvs/talktodata-V8t31u4d-py3.11/lib/python3.11/site-packages/grpc/_channel.py:1006\u001b[0m, in \u001b[0;36m_end_unary_response_blocking\u001b[0;34m(state, call, with_call, deadline)\u001b[0m\n\u001b[1;32m   1005\u001b[0m \u001b[38;5;28;01melse\u001b[39;00m:\n\u001b[0;32m-> 1006\u001b[0m     \u001b[38;5;28;01mraise\u001b[39;00m _InactiveRpcError(state)\n",
      "\u001b[0;31m_InactiveRpcError\u001b[0m: <_InactiveRpcError of RPC that terminated with:\n\tstatus = StatusCode.UNAVAILABLE\n\tdetails = \"recvmsg:Connection reset by peer\"\n\tdebug_error_string = \"UNKNOWN:Error received from peer  {created_time:\"2024-06-21T09:51:49.719840299+01:00\", grpc_status:14, grpc_message:\"recvmsg:Connection reset by peer\"}\"\n>",
      "\nThe above exception was the direct cause of the following exception:\n",
      "\u001b[0;31mServiceUnavailable\u001b[0m                        Traceback (most recent call last)",
      "Cell \u001b[0;32mIn[6], line 4\u001b[0m\n\u001b[1;32m      1\u001b[0m \u001b[38;5;28;01mfrom\u001b[39;00m \u001b[38;5;21;01menv_setup\u001b[39;00m \u001b[38;5;28;01mimport\u001b[39;00m get_embeddings\n\u001b[1;32m      3\u001b[0m \u001b[38;5;66;03m# Generate embeddings for tables and columns\u001b[39;00m\n\u001b[0;32m----> 4\u001b[0m table_schema_embeddings, col_schema_embeddings \u001b[38;5;241m=\u001b[39m \u001b[43mget_embeddings\u001b[49m\u001b[43m(\u001b[49m\u001b[43m)\u001b[49m  \n",
      "File \u001b[0;32m~/dev/applied-ai-engineering-samples/env_setup.py:203\u001b[0m, in \u001b[0;36mget_embeddings\u001b[0;34m()\u001b[0m\n\u001b[1;32m    201\u001b[0m \u001b[38;5;28mprint\u001b[39m(\u001b[38;5;124m\"\u001b[39m\u001b[38;5;124mGenerating embeddings from source db schemas\u001b[39m\u001b[38;5;124m\"\u001b[39m)\n\u001b[1;32m    202\u001b[0m \u001b[38;5;28;01mif\u001b[39;00m DATA_SOURCE \u001b[38;5;241m==\u001b[39m\u001b[38;5;124m'\u001b[39m\u001b[38;5;124mbigquery\u001b[39m\u001b[38;5;124m'\u001b[39m:\n\u001b[0;32m--> 203\u001b[0m     table_schema_embeddings, col_schema_embeddings \u001b[38;5;241m=\u001b[39m \u001b[43mretrieve_embeddings\u001b[49m\u001b[43m(\u001b[49m\u001b[43mDATA_SOURCE\u001b[49m\u001b[43m,\u001b[49m\u001b[43m \u001b[49m\u001b[43mSCHEMA\u001b[49m\u001b[38;5;241;43m=\u001b[39;49m\u001b[43mBQ_DATASET_NAME\u001b[49m\u001b[43m,\u001b[49m\u001b[43m \u001b[49m\u001b[43mtable_names\u001b[49m\u001b[38;5;241;43m=\u001b[39;49m\u001b[43mBQ_TABLE_LIST\u001b[49m\u001b[43m)\u001b[49m\n\u001b[1;32m    204\u001b[0m \u001b[38;5;28;01melse\u001b[39;00m: \n\u001b[1;32m    205\u001b[0m     table_schema_embeddings, col_schema_embeddings \u001b[38;5;241m=\u001b[39m retrieve_embeddings(DATA_SOURCE, SCHEMA\u001b[38;5;241m=\u001b[39mPG_SCHEMA)\n",
      "File \u001b[0;32m~/dev/applied-ai-engineering-samples/embeddings/retrieve_embeddings.py:121\u001b[0m, in \u001b[0;36mretrieve_embeddings\u001b[0;34m(SOURCE, SCHEMA, table_names)\u001b[0m\n\u001b[1;32m    119\u001b[0m column_name_df \u001b[38;5;241m=\u001b[39m bqconnector\u001b[38;5;241m.\u001b[39mretrieve_df(column_schema_sql)\n\u001b[1;32m    120\u001b[0m \u001b[38;5;66;03m#GENERATE MISSING DESCRIPTIONS\u001b[39;00m\n\u001b[0;32m--> 121\u001b[0m table_desc_df,column_name_df\u001b[38;5;241m=\u001b[39m \u001b[43mdescriptor\u001b[49m\u001b[38;5;241;43m.\u001b[39;49m\u001b[43mgenerate_missing_descriptions\u001b[49m\u001b[43m(\u001b[49m\u001b[43mSOURCE\u001b[49m\u001b[43m,\u001b[49m\u001b[43mtable_desc_df\u001b[49m\u001b[43m,\u001b[49m\u001b[43mcolumn_name_df\u001b[49m\u001b[43m)\u001b[49m\n\u001b[1;32m    123\u001b[0m \u001b[38;5;66;03m#TABLE EMBEDDINGS\u001b[39;00m\n\u001b[1;32m    124\u001b[0m table_details_chunked \u001b[38;5;241m=\u001b[39m []\n",
      "File \u001b[0;32m~/dev/applied-ai-engineering-samples/agents/DescriptionAgent.py:127\u001b[0m, in \u001b[0;36mDescriptionAgent.generate_missing_descriptions\u001b[0;34m(self, source, table_desc_df, column_name_df)\u001b[0m\n\u001b[1;32m    114\u001b[0m \u001b[38;5;28;01melse\u001b[39;00m:\n\u001b[1;32m    115\u001b[0m     context_prompt \u001b[38;5;241m=\u001b[39m \u001b[38;5;124mf\u001b[39m\u001b[38;5;124m\"\"\"\u001b[39m\n\u001b[1;32m    116\u001b[0m \u001b[38;5;124m    Generate short and crisp description for the column \u001b[39m\u001b[38;5;132;01m{\u001b[39;00mrow[\u001b[38;5;124m'\u001b[39m\u001b[38;5;124mtable_schema\u001b[39m\u001b[38;5;124m'\u001b[39m]\u001b[38;5;132;01m}\u001b[39;00m\u001b[38;5;124m.\u001b[39m\u001b[38;5;132;01m{\u001b[39;00mrow[\u001b[38;5;124m'\u001b[39m\u001b[38;5;124mtable_name\u001b[39m\u001b[38;5;124m'\u001b[39m]\u001b[38;5;132;01m}\u001b[39;00m\u001b[38;5;124m.\u001b[39m\u001b[38;5;132;01m{\u001b[39;00mrow[\u001b[38;5;124m'\u001b[39m\u001b[38;5;124mcolumn_name\u001b[39m\u001b[38;5;124m'\u001b[39m]\u001b[38;5;132;01m}\u001b[39;00m\n\u001b[1;32m    117\u001b[0m \u001b[38;5;124m    Remember that this description should help LLMs to help generate better SQL for any queries related to these columns.\u001b[39m\n\u001b[0;32m   (...)\u001b[0m\n\u001b[1;32m    124\u001b[0m \u001b[38;5;124m    DO NOT generate description more than two lines\u001b[39m\n\u001b[1;32m    125\u001b[0m \u001b[38;5;124m\u001b[39m\u001b[38;5;124m\"\"\"\u001b[39m                \n\u001b[0;32m--> 127\u001b[0m column_name_df\u001b[38;5;241m.\u001b[39mat[index,\u001b[38;5;124m'\u001b[39m\u001b[38;5;124mcolumn_description\u001b[39m\u001b[38;5;124m'\u001b[39m]\u001b[38;5;241m=\u001b[39m\u001b[38;5;28;43mself\u001b[39;49m\u001b[38;5;241;43m.\u001b[39;49m\u001b[43mgenerate_llm_response\u001b[49m\u001b[43m(\u001b[49m\u001b[43mprompt\u001b[49m\u001b[38;5;241;43m=\u001b[39;49m\u001b[43mcontext_prompt\u001b[49m\u001b[43m)\u001b[49m\n\u001b[1;32m    128\u001b[0m \u001b[38;5;66;03m# print(row['column_description'])\u001b[39;00m\n\u001b[1;32m    129\u001b[0m llm_generated\u001b[38;5;241m=\u001b[39mllm_generated\u001b[38;5;241m+\u001b[39m\u001b[38;5;241m1\u001b[39m\n",
      "File \u001b[0;32m~/dev/applied-ai-engineering-samples/agents/DescriptionAgent.py:57\u001b[0m, in \u001b[0;36mDescriptionAgent.generate_llm_response\u001b[0;34m(self, prompt)\u001b[0m\n\u001b[1;32m     56\u001b[0m \u001b[38;5;28;01mdef\u001b[39;00m \u001b[38;5;21mgenerate_llm_response\u001b[39m(\u001b[38;5;28mself\u001b[39m,prompt):\n\u001b[0;32m---> 57\u001b[0m     context_query \u001b[38;5;241m=\u001b[39m \u001b[38;5;28;43mself\u001b[39;49m\u001b[38;5;241;43m.\u001b[39;49m\u001b[43mmodel\u001b[49m\u001b[38;5;241;43m.\u001b[39;49m\u001b[43mgenerate_content\u001b[49m\u001b[43m(\u001b[49m\u001b[43mprompt\u001b[49m\u001b[43m,\u001b[49m\u001b[43msafety_settings\u001b[49m\u001b[38;5;241;43m=\u001b[39;49m\u001b[38;5;28;43mself\u001b[39;49m\u001b[38;5;241;43m.\u001b[39;49m\u001b[43msafety_settings\u001b[49m\u001b[43m,\u001b[49m\u001b[43mstream\u001b[49m\u001b[38;5;241;43m=\u001b[39;49m\u001b[38;5;28;43;01mFalse\u001b[39;49;00m\u001b[43m)\u001b[49m\n\u001b[1;32m     58\u001b[0m     \u001b[38;5;28;01mreturn\u001b[39;00m \u001b[38;5;28mstr\u001b[39m(context_query\u001b[38;5;241m.\u001b[39mcandidates[\u001b[38;5;241m0\u001b[39m]\u001b[38;5;241m.\u001b[39mtext)\u001b[38;5;241m.\u001b[39mreplace(\u001b[38;5;124m\"\u001b[39m\u001b[38;5;124m```sql\u001b[39m\u001b[38;5;124m\"\u001b[39m, \u001b[38;5;124m\"\u001b[39m\u001b[38;5;124m\"\u001b[39m)\u001b[38;5;241m.\u001b[39mreplace(\u001b[38;5;124m\"\u001b[39m\u001b[38;5;124m```\u001b[39m\u001b[38;5;124m\"\u001b[39m, \u001b[38;5;124m\"\u001b[39m\u001b[38;5;124m\"\u001b[39m)\n",
      "File \u001b[0;32m~/.cache/pypoetry/virtualenvs/talktodata-V8t31u4d-py3.11/lib/python3.11/site-packages/vertexai/generative_models/_generative_models.py:524\u001b[0m, in \u001b[0;36m_GenerativeModel.generate_content\u001b[0;34m(self, contents, generation_config, safety_settings, tools, tool_config, stream)\u001b[0m\n\u001b[1;32m    516\u001b[0m     \u001b[38;5;28;01mreturn\u001b[39;00m \u001b[38;5;28mself\u001b[39m\u001b[38;5;241m.\u001b[39m_generate_content_streaming(\n\u001b[1;32m    517\u001b[0m         contents\u001b[38;5;241m=\u001b[39mcontents,\n\u001b[1;32m    518\u001b[0m         generation_config\u001b[38;5;241m=\u001b[39mgeneration_config,\n\u001b[0;32m   (...)\u001b[0m\n\u001b[1;32m    521\u001b[0m         tool_config\u001b[38;5;241m=\u001b[39mtool_config,\n\u001b[1;32m    522\u001b[0m     )\n\u001b[1;32m    523\u001b[0m \u001b[38;5;28;01melse\u001b[39;00m:\n\u001b[0;32m--> 524\u001b[0m     \u001b[38;5;28;01mreturn\u001b[39;00m \u001b[38;5;28;43mself\u001b[39;49m\u001b[38;5;241;43m.\u001b[39;49m\u001b[43m_generate_content\u001b[49m\u001b[43m(\u001b[49m\n\u001b[1;32m    525\u001b[0m \u001b[43m        \u001b[49m\u001b[43mcontents\u001b[49m\u001b[38;5;241;43m=\u001b[39;49m\u001b[43mcontents\u001b[49m\u001b[43m,\u001b[49m\n\u001b[1;32m    526\u001b[0m \u001b[43m        \u001b[49m\u001b[43mgeneration_config\u001b[49m\u001b[38;5;241;43m=\u001b[39;49m\u001b[43mgeneration_config\u001b[49m\u001b[43m,\u001b[49m\n\u001b[1;32m    527\u001b[0m \u001b[43m        \u001b[49m\u001b[43msafety_settings\u001b[49m\u001b[38;5;241;43m=\u001b[39;49m\u001b[43msafety_settings\u001b[49m\u001b[43m,\u001b[49m\n\u001b[1;32m    528\u001b[0m \u001b[43m        \u001b[49m\u001b[43mtools\u001b[49m\u001b[38;5;241;43m=\u001b[39;49m\u001b[43mtools\u001b[49m\u001b[43m,\u001b[49m\n\u001b[1;32m    529\u001b[0m \u001b[43m        \u001b[49m\u001b[43mtool_config\u001b[49m\u001b[38;5;241;43m=\u001b[39;49m\u001b[43mtool_config\u001b[49m\u001b[43m,\u001b[49m\n\u001b[1;32m    530\u001b[0m \u001b[43m    \u001b[49m\u001b[43m)\u001b[49m\n",
      "File \u001b[0;32m~/.cache/pypoetry/virtualenvs/talktodata-V8t31u4d-py3.11/lib/python3.11/site-packages/vertexai/generative_models/_generative_models.py:613\u001b[0m, in \u001b[0;36m_GenerativeModel._generate_content\u001b[0;34m(self, contents, generation_config, safety_settings, tools, tool_config)\u001b[0m\n\u001b[1;32m    588\u001b[0m \u001b[38;5;250m\u001b[39m\u001b[38;5;124;03m\"\"\"Generates content.\u001b[39;00m\n\u001b[1;32m    589\u001b[0m \n\u001b[1;32m    590\u001b[0m \u001b[38;5;124;03mArgs:\u001b[39;00m\n\u001b[0;32m   (...)\u001b[0m\n\u001b[1;32m    604\u001b[0m \u001b[38;5;124;03m    A single GenerationResponse object\u001b[39;00m\n\u001b[1;32m    605\u001b[0m \u001b[38;5;124;03m\"\"\"\u001b[39;00m\n\u001b[1;32m    606\u001b[0m request \u001b[38;5;241m=\u001b[39m \u001b[38;5;28mself\u001b[39m\u001b[38;5;241m.\u001b[39m_prepare_request(\n\u001b[1;32m    607\u001b[0m     contents\u001b[38;5;241m=\u001b[39mcontents,\n\u001b[1;32m    608\u001b[0m     generation_config\u001b[38;5;241m=\u001b[39mgeneration_config,\n\u001b[0;32m   (...)\u001b[0m\n\u001b[1;32m    611\u001b[0m     tool_config\u001b[38;5;241m=\u001b[39mtool_config,\n\u001b[1;32m    612\u001b[0m )\n\u001b[0;32m--> 613\u001b[0m gapic_response \u001b[38;5;241m=\u001b[39m \u001b[38;5;28;43mself\u001b[39;49m\u001b[38;5;241;43m.\u001b[39;49m\u001b[43m_prediction_client\u001b[49m\u001b[38;5;241;43m.\u001b[39;49m\u001b[43mgenerate_content\u001b[49m\u001b[43m(\u001b[49m\u001b[43mrequest\u001b[49m\u001b[38;5;241;43m=\u001b[39;49m\u001b[43mrequest\u001b[49m\u001b[43m)\u001b[49m\n\u001b[1;32m    614\u001b[0m \u001b[38;5;28;01mreturn\u001b[39;00m \u001b[38;5;28mself\u001b[39m\u001b[38;5;241m.\u001b[39m_parse_response(gapic_response)\n",
      "File \u001b[0;32m~/.cache/pypoetry/virtualenvs/talktodata-V8t31u4d-py3.11/lib/python3.11/site-packages/google/cloud/aiplatform_v1beta1/services/prediction_service/client.py:2125\u001b[0m, in \u001b[0;36mPredictionServiceClient.generate_content\u001b[0;34m(self, request, model, contents, retry, timeout, metadata)\u001b[0m\n\u001b[1;32m   2122\u001b[0m \u001b[38;5;28mself\u001b[39m\u001b[38;5;241m.\u001b[39m_validate_universe_domain()\n\u001b[1;32m   2124\u001b[0m \u001b[38;5;66;03m# Send the request.\u001b[39;00m\n\u001b[0;32m-> 2125\u001b[0m response \u001b[38;5;241m=\u001b[39m \u001b[43mrpc\u001b[49m\u001b[43m(\u001b[49m\n\u001b[1;32m   2126\u001b[0m \u001b[43m    \u001b[49m\u001b[43mrequest\u001b[49m\u001b[43m,\u001b[49m\n\u001b[1;32m   2127\u001b[0m \u001b[43m    \u001b[49m\u001b[43mretry\u001b[49m\u001b[38;5;241;43m=\u001b[39;49m\u001b[43mretry\u001b[49m\u001b[43m,\u001b[49m\n\u001b[1;32m   2128\u001b[0m \u001b[43m    \u001b[49m\u001b[43mtimeout\u001b[49m\u001b[38;5;241;43m=\u001b[39;49m\u001b[43mtimeout\u001b[49m\u001b[43m,\u001b[49m\n\u001b[1;32m   2129\u001b[0m \u001b[43m    \u001b[49m\u001b[43mmetadata\u001b[49m\u001b[38;5;241;43m=\u001b[39;49m\u001b[43mmetadata\u001b[49m\u001b[43m,\u001b[49m\n\u001b[1;32m   2130\u001b[0m \u001b[43m\u001b[49m\u001b[43m)\u001b[49m\n\u001b[1;32m   2132\u001b[0m \u001b[38;5;66;03m# Done; return the response.\u001b[39;00m\n\u001b[1;32m   2133\u001b[0m \u001b[38;5;28;01mreturn\u001b[39;00m response\n",
      "File \u001b[0;32m~/.cache/pypoetry/virtualenvs/talktodata-V8t31u4d-py3.11/lib/python3.11/site-packages/google/api_core/gapic_v1/method.py:131\u001b[0m, in \u001b[0;36m_GapicCallable.__call__\u001b[0;34m(self, timeout, retry, compression, *args, **kwargs)\u001b[0m\n\u001b[1;32m    128\u001b[0m \u001b[38;5;28;01mif\u001b[39;00m \u001b[38;5;28mself\u001b[39m\u001b[38;5;241m.\u001b[39m_compression \u001b[38;5;129;01mis\u001b[39;00m \u001b[38;5;129;01mnot\u001b[39;00m \u001b[38;5;28;01mNone\u001b[39;00m:\n\u001b[1;32m    129\u001b[0m     kwargs[\u001b[38;5;124m\"\u001b[39m\u001b[38;5;124mcompression\u001b[39m\u001b[38;5;124m\"\u001b[39m] \u001b[38;5;241m=\u001b[39m compression\n\u001b[0;32m--> 131\u001b[0m \u001b[38;5;28;01mreturn\u001b[39;00m \u001b[43mwrapped_func\u001b[49m\u001b[43m(\u001b[49m\u001b[38;5;241;43m*\u001b[39;49m\u001b[43margs\u001b[49m\u001b[43m,\u001b[49m\u001b[43m \u001b[49m\u001b[38;5;241;43m*\u001b[39;49m\u001b[38;5;241;43m*\u001b[39;49m\u001b[43mkwargs\u001b[49m\u001b[43m)\u001b[49m\n",
      "File \u001b[0;32m~/.cache/pypoetry/virtualenvs/talktodata-V8t31u4d-py3.11/lib/python3.11/site-packages/google/api_core/grpc_helpers.py:78\u001b[0m, in \u001b[0;36m_wrap_unary_errors.<locals>.error_remapped_callable\u001b[0;34m(*args, **kwargs)\u001b[0m\n\u001b[1;32m     76\u001b[0m     \u001b[38;5;28;01mreturn\u001b[39;00m callable_(\u001b[38;5;241m*\u001b[39margs, \u001b[38;5;241m*\u001b[39m\u001b[38;5;241m*\u001b[39mkwargs)\n\u001b[1;32m     77\u001b[0m \u001b[38;5;28;01mexcept\u001b[39;00m grpc\u001b[38;5;241m.\u001b[39mRpcError \u001b[38;5;28;01mas\u001b[39;00m exc:\n\u001b[0;32m---> 78\u001b[0m     \u001b[38;5;28;01mraise\u001b[39;00m exceptions\u001b[38;5;241m.\u001b[39mfrom_grpc_error(exc) \u001b[38;5;28;01mfrom\u001b[39;00m \u001b[38;5;21;01mexc\u001b[39;00m\n",
      "\u001b[0;31mServiceUnavailable\u001b[0m: 503 recvmsg:Connection reset by peer"
     ]
    }
   ],
   "source": [
    "from env_setup import get_embeddings\n",
    "\n",
    "# Generate embeddings for tables and columns\n",
    "table_schema_embeddings, col_schema_embeddings = get_embeddings()  \n"
   ]
  },
  {
   "cell_type": "code",
   "execution_count": null,
   "id": "8d8a8bd3-8f09-4bb2-bb18-c1131d141fa0",
   "metadata": {
    "tags": []
   },
   "outputs": [],
   "source": [
    "print(\"Table Descriptions\")\n",
    "table_schema_embeddings.head()"
   ]
  },
  {
   "cell_type": "code",
   "execution_count": null,
   "id": "6a88f888-ff33-4bdd-8683-56280bb55f00",
   "metadata": {},
   "outputs": [],
   "source": [
    "print(\"Column Descriptions\")\n",
    "col_schema_embeddings.head()"
   ]
  },
  {
   "cell_type": "code",
   "execution_count": null,
   "id": "310e7dc1-184a-4e18-bca0-74c73de74f96",
   "metadata": {
    "tags": []
   },
   "outputs": [],
   "source": [
    "from env_setup import store_embeddings\n",
    "\n",
    "# Store table/column embeddings (asynchronous)\n",
    "await(store_embeddings(table_schema_embeddings, col_schema_embeddings)) "
   ]
  },
  {
   "cell_type": "code",
   "execution_count": null,
   "id": "c121cc30-895a-414e-8d36-582563a521b0",
   "metadata": {},
   "outputs": [],
   "source": [
    "bq_table_list = None #[ 'activities', 'activity_types'] #None # either None or a list of table names in format ['reviews', 'ratings']\n",
    "\n",
    "from scripts import save_config\n",
    "\n",
    "save_config(embedding_model, description_model, data_source, vector_store, logging, kgq_examples, PROJECT_ID,\n",
    "            pg_region, pg_instance, pg_database, pg_user, pg_password, pg_schema, \n",
    "            bq_dataset_region, bq_dataset_name, \n",
    "            bq_opendataqna_dataset_name, bq_log_table_name, bq_table_list)\n",
    "\n",
    "\n",
    "from env_setup import get_embeddings\n",
    "\n",
    "# Generate embeddings for tables and columns\n",
    "table_schema_embeddings, col_schema_embeddings = get_embeddings()  \n",
    "\n",
    "print(\"Table Descriptions\")\n",
    "table_schema_embeddings.head()\n",
    "\n",
    "print(\"Column Descriptions\")\n",
    "col_schema_embeddings.head()\n",
    "\n",
    "from env_setup import store_embeddings\n",
    "\n",
    "# Store table/column embeddings (asynchronous)\n",
    "await(store_embeddings(table_schema_embeddings, col_schema_embeddings)) "
   ]
  },
  {
   "cell_type": "code",
   "execution_count": null,
   "id": "863a2e39",
   "metadata": {},
   "outputs": [],
   "source": []
  }
 ],
 "metadata": {
  "environment": {
   "kernel": "openqna-venv",
   "name": "workbench-notebooks.m122",
   "type": "gcloud",
   "uri": "us-docker.pkg.dev/deeplearning-platform-release/gcr.io/workbench-notebooks:m122"
  },
  "kernelspec": {
   "display_name": "talktodata-V8t31u4d-py3.11",
   "language": "python",
   "name": "python3"
  },
  "language_info": {
   "codemirror_mode": {
    "name": "ipython",
    "version": 3
   },
   "file_extension": ".py",
   "mimetype": "text/x-python",
   "name": "python",
   "nbconvert_exporter": "python",
   "pygments_lexer": "ipython3",
   "version": "3.11.2"
  }
 },
 "nbformat": 4,
 "nbformat_minor": 5
}
